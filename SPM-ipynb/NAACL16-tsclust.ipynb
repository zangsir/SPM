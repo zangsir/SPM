{
 "cells": [
  {
   "cell_type": "code",
   "execution_count": 13,
   "metadata": {
    "collapsed": false
   },
   "outputs": [],
   "source": [
    "import pandas as pd\n",
    "import numpy as np\n",
    "import random\n",
    "import matplotlib.pylab as plt\n",
    "%matplotlib inline\n",
    "\n",
    "\n",
    "\n",
    "def euclid_dist(t1,t2):\n",
    "    return np.sqrt(sum((t1-t2)**2))\n",
    "    \n",
    "#objective Functions\n",
    "#first with euclidean distance\n",
    "def objectFunction(centroids,assignments):\n",
    "    cum_all=0\n",
    "    for cluster in range(len(assignments)):\n",
    "        #print \"cluster:\",cluster\n",
    "        cum_all=cum_all+cumDist(centroids[cluster],assignments[cluster])\n",
    "    #print \"total objective function value=\",cum_all\n",
    "    return cum_all\n",
    "    \n",
    "    \n",
    "        \n",
    "def cumDist(centroid,assignment):        \n",
    "    cum_dist=0\n",
    "    for i in assignment:\n",
    "        cum_dist=cum_dist+euclid_dist(centroid,data[i])**2\n",
    "    \n",
    "    #print 'cum_dist_euclid=',cum_dist\n",
    "    return cum_dist\n",
    "    \n",
    "def LB_Keogh(s1,s2,r):\n",
    "    LB_sum=0\n",
    "    for ind,i in enumerate(s1):\n",
    "        \n",
    "        lower_bound=min(s2[(ind-r if ind-r>=0 else 0):(ind+r)])\n",
    "        upper_bound=max(s2[(ind-r if ind-r>=0 else 0):(ind+r)])\n",
    "        \n",
    "        if i>upper_bound:\n",
    "            LB_sum=LB_sum+(i-upper_bound)**2\n",
    "        elif i<lower_bound:\n",
    "            LB_sum=LB_sum+(i-lower_bound)**2\n",
    "    \n",
    "    return np.sqrt(LB_sum)\n",
    "    \n",
    "\n",
    "def DTWDistance(s1, s2,w):\n",
    "    DTW={}\n",
    "    \n",
    "    w = max(w, abs(len(s1)-len(s2)))\n",
    "    \n",
    "    for i in range(-1,len(s1)):\n",
    "        for j in range(-1,len(s2)):\n",
    "            DTW[(i, j)] = float('inf')\n",
    "    DTW[(-1, -1)] = 0\n",
    "  \n",
    "    for i in range(len(s1)):\n",
    "        for j in range(max(0, i-w), min(len(s2), i+w)):\n",
    "            dist= (s1[i]-s2[j])**2\n",
    "            DTW[(i, j)] = dist + min(DTW[(i-1, j)],DTW[(i, j-1)], DTW[(i-1, j-1)])\n",
    "\t\t\n",
    "    return np.sqrt(DTW[len(s1)-1, len(s2)-1])\n",
    "    \n",
    "    \n",
    "\n",
    "\n",
    "\n",
    "#objective Functions\n",
    "#first with euclidean distance\n",
    "def objectFunction(centroids,assignments):\n",
    "    cum_all=0\n",
    "    #print \"assignments:\",len(assignments)\n",
    "    #print \"centroids\",centroids\n",
    "    for cluster in range(len(assignments)):\n",
    "        #print \"cluster:\",cluster\n",
    "        cum_all=cum_all+cumDist(centroids[cluster],assignments[cluster])\n",
    "    #print \"total objective function value=\",cum_all\n",
    "    return cum_all\n",
    "    \n",
    "    \n",
    "        \n",
    "def cumDist(centroid,assignment):        \n",
    "    cum_dist=0\n",
    "    for i in assignment:\n",
    "        cum_dist=cum_dist+euclid_dist(centroid,data[i])**2\n",
    "    \n",
    "    #print 'cum_dist_euclid=',cum_dist\n",
    "    return cum_dist\n",
    "\t\n",
    "\t\n",
    "\n",
    "import random\n",
    "\n",
    "def k_means_clust_DTW_LBK(data,num_clust,num_iter,w=5):\n",
    "    centroids=random.sample(data,num_clust)\n",
    "    counter=0\n",
    "    old_centroids=None\n",
    "    cost_log=[]\n",
    "    for n in range(num_iter):\n",
    "        \n",
    "        counter+=1\n",
    "        #print \"iteration\",counter\n",
    "        \n",
    "        \n",
    "        if np.array_equal(old_centroids,centroids):\n",
    "            return centroids, assignments,cost_log\n",
    "        #else:\n",
    "            #print \"old!=new\"\n",
    "        assignments={}\n",
    "        #assign data points to clusters\n",
    "        for ind,i in enumerate(data):\n",
    "            min_dist=float('inf')\n",
    "            closest_clust=None\n",
    "            #here the min_dist is the min_dist to centroid: which centroid is closest to this point?\n",
    "            for c_ind,j in enumerate(centroids):\n",
    "                #only if the LB_Keogh distance is smaller than the min_dist, then we compute the DTW distance\n",
    "                if LB_Keogh(i,j,5)<min_dist:\n",
    "                    cur_dist=DTWDistance(i,j,w)\n",
    "                    if cur_dist<min_dist:\n",
    "                        min_dist=cur_dist\n",
    "                        closest_clust=c_ind\n",
    "            if closest_clust in assignments:\n",
    "                assignments[closest_clust].append(ind)\n",
    "            else:\n",
    "                assignments[closest_clust]=[]\n",
    "                #print \"not in:\",ind\n",
    "                \n",
    "        old_centroids=centroids[:]\n",
    "        cost=objectFunction(centroids,assignments)\n",
    "        cost_log.append(cost)\n",
    "        \n",
    "        \n",
    "        #recalculate centroids of clusters\n",
    "        for key in assignments:\n",
    "            clust_sum=0\n",
    "            for k in assignments[key]:\n",
    "                clust_sum=clust_sum+data[k]\n",
    "            if not np.array_equal(clust_sum,0):\n",
    "                centroids[key]=[m/len(assignments[key]) for m in clust_sum]\n",
    "            else:\n",
    "                centroids=random.sample(data,num_clust)\n",
    "                break\n",
    "        \n",
    "    return centroids, assignments,cost_log\n",
    "        \n",
    "\n",
    "#euclidean distance kmeans\n",
    "def k_means_clust_euclid(data,num_clust,num_iter):\n",
    "    centroids=random.sample(data,num_clust)\n",
    "    #print \"random init:\",centroids\n",
    "    counter=0\n",
    "    old_cent=None\n",
    "    cost_log=[]\n",
    "    for n in range(num_iter):\n",
    "        \n",
    "        counter+=1\n",
    "        #print \"iteration\",counter\n",
    "        #print \"old c\",old_cent\n",
    "        #print \"new c\",centroids\n",
    "        #print \"assignments-begin\",assginments\n",
    "        if np.array_equal(old_cent,centroids):\n",
    "            return centroids, assignments,cost_log\n",
    "        #else:\n",
    "            #print \"old!=new\"\n",
    "        old_cent=centroids[:]\n",
    "        #print \"copied old:\",old_cent\n",
    "        #assign data points to clusters\n",
    "        assignments={}\n",
    "        for ind,i in enumerate(data):\n",
    "            #print \"ass\",assignments\n",
    "            min_dist=float('inf')\n",
    "            closest_clust=None\n",
    "            #here the min_dist is the min_dist to centroid: which centroid is closest to this point?\n",
    "            for c_ind,j in enumerate(centroids):                \n",
    "                cur_dist=euclid_dist(i,j)\n",
    "                if cur_dist<min_dist:\n",
    "                    min_dist=cur_dist\n",
    "                    closest_clust=c_ind\n",
    "            if closest_clust in assignments:\n",
    "                #print \"closest cent:\",closest_clust\n",
    "                assignments[closest_clust].append(ind)\n",
    "            else:\n",
    "                #print \"no in ass\"\n",
    "                assignments[closest_clust]=[]\n",
    "                #print \"not in:\",ind\n",
    "        # print \"assignments\", assignments       \n",
    "        #print \"old before new:\",old_cent\n",
    "        \n",
    "        #print 'centroids',centroids\n",
    "        cost=objectFunction(centroids,assignments)\n",
    "        cost_log.append(cost)\n",
    "        \n",
    "        #recalculate centroids of clusters\n",
    "\n",
    "        for key in assignments:\n",
    "            clust_sum=0\n",
    "            for k in assignments[key]:\n",
    "                clust_sum=clust_sum+data[k]\n",
    "                #print \"clust sum:\",clust_sum\n",
    "            #print \"----OLD-before\",old_cent\n",
    "            if not np.array_equal(clust_sum,0):\n",
    "                #print 'clust sum=',clust_sum\n",
    "                #centroids[key]=[m/len(assignments[key]) for m in clust_sum]\n",
    "                centroids[key]=np.array(clust_sum)/len(assignments[key])\n",
    "                #print \"------clust sum !=0\"\n",
    "                #print \"----OLD\",old_cent\n",
    "            else:\n",
    "                centroids=random.sample(data,num_clust)\n",
    "                #print \"------clust sum = 0\"\n",
    "                break\n",
    "        #print \"computed new:\",centroids\n",
    "        #print \"old at this point:\",old_cent\n",
    "        #print \"============\"\n",
    "    return centroids, assignments, cost_log\n",
    "    \n",
    "\n",
    "\n",
    "#mindist distance kmeans\n",
    "def k_means_clust_mindist(data,num_clust,num_iter,word,alpha):\n",
    "    \n",
    "    data_SAX=[]\n",
    "    s=SAX(word,alpha,0.000001)\n",
    "    for ts in data:\n",
    "        #convert i, a time series, into SAX\n",
    "        (tsString, tsIndices) = s.to_letter_rep(ts)\n",
    "        data_SAX.append(tsString)\n",
    "    #print \"Data\", data_SAX\n",
    "    \n",
    "    \n",
    "    centroids=random.sample(data,num_clust)\n",
    "    centroids_SAX=[]\n",
    "    for ts in centroids:\n",
    "        #convert i, a time series, into SAX\n",
    "        (tsString, tsIndices) = s.to_letter_rep(ts)\n",
    "        centroids_SAX.append(tsString)\n",
    "    #print \"cent\",centroids_SAX\n",
    "    \n",
    "    counter=0\n",
    "    old_cent=None\n",
    "    cost_log=[]\n",
    "    for n in range(num_iter):\n",
    "        \n",
    "        counter+=1\n",
    "        #print \"iteration\",counter\n",
    "\n",
    "        if np.array_equal(old_cent,centroids):\n",
    "            print \"num of iteration:\",n-1\n",
    "            return centroids, assignments,cost_log\n",
    "        #else:\n",
    "            #print \"old!=new\"\n",
    "        \n",
    "        old_cent=centroids[:]\n",
    "        #print 'old cent',old_cent\n",
    "        #assign data points to clusters\n",
    "        assignments={}\n",
    "        for ind,i in enumerate(data_SAX):\n",
    "            #print \"ass\",assignments\n",
    "            min_dist=float('inf')\n",
    "            closest_clust=None\n",
    "            #here the min_dist is the min_dist to centroid: which centroid is closest to this point?\n",
    "            for c_ind,j in enumerate(centroids_SAX):                \n",
    "                cur_dist=s.compare_strings(i,j)\n",
    "                if cur_dist<min_dist:\n",
    "                    min_dist=cur_dist\n",
    "                    closest_clust=c_ind\n",
    "            if closest_clust in assignments:\n",
    "                assignments[closest_clust].append(ind)\n",
    "            else:\n",
    "                assignments[closest_clust]=[]\n",
    "        if len(assignments)==num_clust:\n",
    "            cost=objectFunction(centroids,assignments)\n",
    "        else:\n",
    "            cost=float('inf')\n",
    "        cost_log.append(cost)\n",
    "        #recalculate centroids of clusters\n",
    "        for key in assignments:\n",
    "            clust_sum=0\n",
    "            for k in assignments[key]:\n",
    "                clust_sum=clust_sum+data[k]\n",
    "            if not np.array_equal(clust_sum,0):\n",
    "                centroids[key]=np.array(clust_sum)/len(assignments[key])\n",
    "            else:\n",
    "                centroids=random.sample(data,num_clust)\n",
    "                break\n",
    "        \n",
    "        centroids_SAX=[]\n",
    "        for ts in centroids:\n",
    "            #convert i, a time series, into SAX\n",
    "            (tsString, tsIndices) = s.to_letter_rep(ts)\n",
    "            centroids_SAX.append(tsString)\n",
    "        #print \"cent\",centroids_SAX\n",
    "        #print \"new cent\",centroids\n",
    "        #print \"old cent end\",old_cent\n",
    "        #print \"============\"\n",
    "    return centroids, assignments,cost_log\n",
    "    \n",
    "    \n",
    "    \n",
    "    \n",
    "#mindist distance kmeans Original Implementation\n",
    "def k_means_clust_mindist_slow(data,num_clust,num_iter,word,alpha):\n",
    "    centroids=random.sample(data,num_clust)\n",
    "    counter=0\n",
    "    old_cent=None\n",
    "    cost_log=[]\n",
    "    for n in range(num_iter):\n",
    "        \n",
    "        counter+=1\n",
    "        print \"iteration\",counter\n",
    "\n",
    "        if np.array_equal(old_cent,centroids):\n",
    "            return centroids, assignments,cost_log\n",
    "        #else:\n",
    "            #print \"old!=new\"\n",
    "        old_cent=centroids[:]\n",
    "\n",
    "        #assign data points to clusters\n",
    "        assignments={}\n",
    "        for ind,i in enumerate(data):\n",
    "            #print \"ass\",assignments\n",
    "            min_dist=float('inf')\n",
    "            closest_clust=None\n",
    "            #here the min_dist is the min_dist to centroid: which centroid is closest to this point?\n",
    "            for c_ind,j in enumerate(centroids):                \n",
    "                cur_dist=minDist(i,j,word,alpha)\n",
    "                if cur_dist<min_dist:\n",
    "                    min_dist=cur_dist\n",
    "                    closest_clust=c_ind\n",
    "            if closest_clust in assignments:\n",
    "                assignments[closest_clust].append(ind)\n",
    "            else:\n",
    "                assignments[closest_clust]=[]\n",
    "\n",
    "        cost=objectFunction(centroids,assignments)\n",
    "        cost_log.append(cost)\n",
    "        #recalculate centroids of clusters\n",
    "        for key in assignments:\n",
    "            clust_sum=0\n",
    "            for k in assignments[key]:\n",
    "                clust_sum=clust_sum+data[k]\n",
    "            if not np.array_equal(clust_sum,0):\n",
    "                centroids[key]=np.array(clust_sum)/len(assignments[key])\n",
    "            else:\n",
    "                centroids=random.sample(data,num_clust)\n",
    "                break\n",
    "        #print \"============\"\n",
    "    return centroids, assignments,cost_log\n",
    "    \n",
    "\n",
    "def computeAccuracy(assignments):\n",
    "    tone_assign=[]\n",
    "    total_correct=0\n",
    "    record=[]\n",
    "    for k in assignments:\n",
    "        #print k\n",
    "        tonex=[]\n",
    "        a,b,c,d=0,0,0,0\n",
    "        \n",
    "        for idx in assignments[k]:\n",
    "            #print idx,\n",
    "            if idx<480:\n",
    "                tonex.append(1)\n",
    "                a+=1\n",
    "            elif idx<960:\n",
    "                tonex.append(2)\n",
    "                b+=1\n",
    "            elif idx<1440:\n",
    "                tonex.append(3)\n",
    "                c+=1\n",
    "            else:\n",
    "                tonex.append(4)\n",
    "                d+=1\n",
    "        tone_assign.append(tonex)\n",
    "        l=[a,b,c,d]\n",
    "        #majority is the tone label with the majority class in this cluster\n",
    "        majority=l.index(max(l))+1\n",
    "        \n",
    "        if not majority in record:\n",
    "            record.append(majority)\n",
    "            num_majority=max(l)\n",
    "            total_correct=total_correct+num_majority\n",
    "        else:\n",
    "            print \"duplicated majority class, accuracy too low!!! Exiting...\"\n",
    "            break\n",
    "    if len(record)==4:\n",
    "        accuracy=total_correct/float(1920)\n",
    "        #print \"total correct:\",total_correct\n",
    "        #print \"accureacy:\",accuracy\n",
    "        return accuracy\n",
    "    else:\n",
    "        #print \"no accuracy to be computed\"\n",
    "        return 0    \n",
    "    \n",
    "\n",
    "\n",
    "\n",
    "\n",
    "\n",
    "\n",
    "    \n"
   ]
  },
  {
   "cell_type": "code",
   "execution_count": null,
   "metadata": {
    "collapsed": false
   },
   "outputs": [],
   "source": []
  },
  {
   "cell_type": "markdown",
   "metadata": {},
   "source": [
    "## euclidean distance clustering"
   ]
  },
  {
   "cell_type": "code",
   "execution_count": 17,
   "metadata": {
    "collapsed": false
   },
   "outputs": [
    {
     "data": {
      "text/plain": [
       "['allxudn-3speakers-sorttone.csv', 'row-yixunorm-bk-sorttone.csv']"
      ]
     },
     "execution_count": 17,
     "metadata": {},
     "output_type": "execute_result"
    }
   ],
   "source": [
    "onlyfiles"
   ]
  },
  {
   "cell_type": "code",
   "execution_count": 18,
   "metadata": {
    "collapsed": false
   },
   "outputs": [
    {
     "data": {
      "text/plain": [
       "'/Users/zangsir/time-series-classification-and-clustering/toneData/'"
      ]
     },
     "execution_count": 18,
     "metadata": {},
     "output_type": "execute_result"
    }
   ],
   "source": [
    "mypath"
   ]
  },
  {
   "cell_type": "code",
   "execution_count": 20,
   "metadata": {
    "collapsed": false
   },
   "outputs": [],
   "source": [
    "allfiles = [ f for f in listdir(mypath) if isfile(join(mypath,f)) ]\n"
   ]
  },
  {
   "cell_type": "code",
   "execution_count": 21,
   "metadata": {
    "collapsed": false
   },
   "outputs": [
    {
     "data": {
      "text/plain": [
       "['.DS_Store',\n",
       " 'allxudn-3speakers-sorttone.csv',\n",
       " 'concatSynth1-sorttone.csv',\n",
       " 'poly-normed-bark-30p-sorttone.csv',\n",
       " 'row-yixu-hertz-sorttone.csv',\n",
       " 'row-yixunorm-bk-sorttone.csv']"
      ]
     },
     "execution_count": 21,
     "metadata": {},
     "output_type": "execute_result"
    }
   ],
   "source": [
    "allfiles"
   ]
  },
  {
   "cell_type": "code",
   "execution_count": null,
   "metadata": {
    "collapsed": false
   },
   "outputs": [],
   "source": []
  },
  {
   "cell_type": "code",
   "execution_count": 22,
   "metadata": {
    "collapsed": false
   },
   "outputs": [
    {
     "name": "stdout",
     "output_type": "stream",
     "text": [
      "1920\n",
      "+++++++++++++++++++++++++++++++++++\n",
      "Feature FILE: allxudn-3speakers-sorttone.csv\n",
      "run: 0\n",
      "run: 1\n",
      "run: 2\n",
      "run: 3\n",
      "duplicated majority class, accuracy too low!!! Exiting...\n",
      "run: 4\n",
      "duplicated majority class, accuracy too low!!! Exiting...\n",
      "run: 5\n",
      "run: 6\n",
      "run: 7\n",
      "best accuracy: 0.803125\n",
      "Objective Functions: [687911203.94856751, 541656048.54510665, 535293072.54114246, 534319525.04873574, 533138428.42620611, 532970679.21480072, 532845541.72404099, 532816092.20742667, 532794851.55931997, 532782393.76342404]\n"
     ]
    },
    {
     "data": {
      "image/png": "[encoded data removed]",
      "text/plain": [
       "<matplotlib.figure.Figure at 0x103f2c4d0>"
      ]
     },
     "metadata": {},
     "output_type": "display_data"
    },
    {
     "name": "stdout",
     "output_type": "stream",
     "text": [
      "+++++++++++++++++++++++++++++++++++\n",
      "Feature FILE: concatSynth1-sorttone.csv\n",
      "run: 0\n",
      "duplicated majority class, accuracy too low!!! Exiting...\n",
      "run: 1\n",
      "duplicated majority class, accuracy too low!!! Exiting...\n",
      "run: 2\n",
      "duplicated majority class, accuracy too low!!! Exiting...\n",
      "run: 3\n",
      "duplicated majority class, accuracy too low!!! Exiting...\n",
      "run: 4\n",
      "duplicated majority class, accuracy too low!!! Exiting...\n",
      "run: 5\n",
      "run: 6\n",
      "duplicated majority class, accuracy too low!!! Exiting...\n",
      "run: 7\n",
      "duplicated majority class, accuracy too low!!! Exiting...\n",
      "best accuracy: 0.4515625\n",
      "Objective Functions: [98082326159566.5, 2677127.7115884814, 98082781054003.266, 2781784.753177172, 98083176983964.156, 3494349.4220500868, 98082325054184.438, 2184701.3664655644, 98082326398012.297, 3516317.1447335626]\n"
     ]
    },
    {
     "data": {
      "image/png": "[encoded data removed]",
      "text/plain": [
       "<matplotlib.figure.Figure at 0x1067d2b90>"
      ]
     },
     "metadata": {},
     "output_type": "display_data"
    },
    {
     "name": "stdout",
     "output_type": "stream",
     "text": [
      "+++++++++++++++++++++++++++++++++++\n",
      "Feature FILE: poly-normed-bark-30p-sorttone.csv\n",
      "run: 0\n",
      "duplicated majority class, accuracy too low!!! Exiting...\n",
      "run: 1\n",
      "duplicated majority class, accuracy too low!!! Exiting...\n",
      "run: 2\n",
      "duplicated majority class, accuracy too low!!! Exiting...\n",
      "run: 3\n",
      "duplicated majority class, accuracy too low!!! Exiting...\n",
      "run: 4\n",
      "duplicated majority class, accuracy too low!!! Exiting...\n",
      "run: 5\n",
      "duplicated majority class, accuracy too low!!! Exiting...\n",
      "run: 6\n",
      "duplicated majority class, accuracy too low!!! Exiting...\n",
      "run: 7\n",
      "duplicated majority class, accuracy too low!!! Exiting...\n",
      "best accuracy: 0\n",
      "Objective Functions: [98082326159566.5, 2677127.7115884814, 98082781054003.266, 2781784.753177172, 98083176983964.156, 3494349.4220500868, 98082325054184.438, 2184701.3664655644, 98082326398012.297, 3516317.1447335626]\n"
     ]
    },
    {
     "data": {
      "image/png": "[encoded data removed]",
      "text/plain": [
       "<matplotlib.figure.Figure at 0x10692c610>"
      ]
     },
     "metadata": {},
     "output_type": "display_data"
    },
    {
     "name": "stdout",
     "output_type": "stream",
     "text": [
      "+++++++++++++++++++++++++++++++++++\n",
      "Feature FILE: row-yixu-hertz-sorttone.csv\n",
      "run: 0\n",
      "run: 1\n",
      "run: 2\n",
      "run: 3\n",
      "run: 4\n",
      "run: 5\n",
      "run: 6\n",
      "run: 7\n",
      "best accuracy: 0.55625\n",
      "Objective Functions: [12837338.048262408, 8044286.0865443423, 7231279.0266121449, 6710999.7960868413, 6317899.1767534558, 6067392.2821331928, 5920084.2965490613, 5801394.5331099965, 5709940.9593019718, 5628442.1184127741]\n"
     ]
    },
    {
     "data": {
      "image/png": "[encoded data removed]",
      "text/plain": [
       "<matplotlib.figure.Figure at 0x1067dcdd0>"
      ]
     },
     "metadata": {},
     "output_type": "display_data"
    },
    {
     "name": "stdout",
     "output_type": "stream",
     "text": [
      "+++++++++++++++++++++++++++++++++++\n",
      "Feature FILE: row-yixunorm-bk-sorttone.csv\n",
      "run: 0\n",
      "run: 1\n",
      "run: 2\n",
      "run: 3\n",
      "run: 4\n",
      "run: 5\n",
      "duplicated majority class, accuracy too low!!! Exiting...\n",
      "run: 6\n",
      "run: 7\n",
      "duplicated majority class, accuracy too low!!! Exiting...\n",
      "best accuracy: 0.624479166667\n",
      "Objective Functions: [408.55178590489766, 181.54954510564085, 146.45565967817285, 124.92665890565219, 112.57094554789849, 106.57357822265084, 103.83293573459774, 102.69236308466711, 101.85803641458298, 101.2440054479229]\n"
     ]
    },
    {
     "data": {
      "image/png": "[encoded data removed]",
      "text/plain": [
       "<matplotlib.figure.Figure at 0x106ddb650>"
      ]
     },
     "metadata": {},
     "output_type": "display_data"
    }
   ],
   "source": [
    "from os import listdir\n",
    "from os.path import isfile, join\n",
    "mypath=\"/Users/zangsir/time-series-classification-and-clustering/toneData/\"\n",
    "allfiles = [ f for f in listdir(mypath) if isfile(join(mypath,f)) ]\n",
    "onlyfiles=[f for f in allfiles if f.endswith('csv')]\n",
    "\n",
    "\n",
    "#tone labels\n",
    "\n",
    "tone_label=[]\n",
    "for i in range(4):\n",
    "    tone=[i+1]*480\n",
    "    tone_label.extend(tone[:])\n",
    "print len(tone_label)\n",
    "\n",
    "\n",
    "\n",
    "    \n",
    "#analysis:kmeans with euclidean distance with 5 types of representation feature files\n",
    "total_cost_log=[]\n",
    "total_accuracy_log=[]\n",
    "for file in onlyfiles:\n",
    "    fileName=mypath+file\n",
    "    data = np.genfromtxt(fileName, delimiter=',')\n",
    "    print \"+++++++++++++++++++++++++++++++++++\"\n",
    "    print \"Feature FILE:\",file\n",
    "    num_run=8\n",
    "    best_accuracy=0\n",
    "    for run in range(num_run):\n",
    "        print \"run:\",run\n",
    "        centroids,assignments,costLog=k_means_clust_euclid(data,4,10)\n",
    "        accuracy=computeAccuracy(assignments)\n",
    "        if accuracy>best_accuracy:\n",
    "            best_accuracy=accuracy\n",
    "            best_cost=costLog\n",
    "    print \"best accuracy:\",best_accuracy\n",
    "    print \"Objective Functions:\",best_cost\n",
    "    plt.plot(best_cost,'^-')\n",
    "    total_cost_log.append(best_cost)\n",
    "    total_accuracy_log.append(best_accuracy)\n",
    "    for i in centroids:\n",
    "        plt.plot(i)\n",
    "    plt.show()"
   ]
  },
  {
   "cell_type": "code",
   "execution_count": null,
   "metadata": {
    "collapsed": false
   },
   "outputs": [],
   "source": []
  },
  {
   "cell_type": "code",
   "execution_count": 24,
   "metadata": {
    "collapsed": false
   },
   "outputs": [
    {
     "data": {
      "image/png": "[encoded data removed]",
      "text/plain": [
       "<matplotlib.figure.Figure at 0x106dea490>"
      ]
     },
     "metadata": {},
     "output_type": "display_data"
    }
   ],
   "source": [
    "len(total_cost_log)\n",
    "marks=['o-','v-','x-','s-','D-']\n",
    "#line1, = plt.plot([1,2,3], label=\"Line 1\", linestyle='--')\n",
    "labels=['D1','qTA','polynomial','hertz','norm-bark']\n",
    "for i,cost in enumerate(total_cost_log):\n",
    "    norm_cost=(cost-np.mean(cost))/np.std(cost)\n",
    "    plt.plot(norm_cost,marks[i],label=labels[i])\n",
    "    plt.legend()\n",
    "    plt.ylabel(\"Intra-cluster distance\")\n",
    "    plt.xlabel(\"num of interation\")\n",
    "    plt.title(\"K-means clustering Objective Function\")\n",
    "    #plt.tight_layout()\n",
    "plt.savefig(\"image2.pdf\")"
   ]
  },
  {
   "cell_type": "code",
   "execution_count": null,
   "metadata": {
    "collapsed": false
   },
   "outputs": [],
   "source": []
  },
  {
   "cell_type": "code",
   "execution_count": 25,
   "metadata": {
    "collapsed": false
   },
   "outputs": [],
   "source": [
    "log_euclid=total_cost_log\n",
    "label_euclid=labels"
   ]
  },
  {
   "cell_type": "code",
   "execution_count": null,
   "metadata": {
    "collapsed": false
   },
   "outputs": [],
   "source": []
  },
  {
   "cell_type": "markdown",
   "metadata": {},
   "source": [
    "## SAX_MINDIST clustering"
   ]
  },
  {
   "cell_type": "code",
   "execution_count": 4,
   "metadata": {
    "collapsed": false
   },
   "outputs": [
    {
     "name": "stdout",
     "output_type": "stream",
     "text": [
      "/Users/zangsir/time-series-classification-and-clustering\n"
     ]
    }
   ],
   "source": [
    "cd time-series-classification-and-clustering/"
   ]
  },
  {
   "cell_type": "code",
   "execution_count": 5,
   "metadata": {
    "collapsed": false
   },
   "outputs": [],
   "source": [
    "from saxpy import SAX\n",
    "def minDist(t1,t2,word,alpha,eps=0.000001):\n",
    "    s=SAX(word,alpha,eps)\n",
    "    (t1String, t1Indices) = s.to_letter_rep(t1)\n",
    "    (t2String, t2Indices) = s.to_letter_rep(t2)\n",
    "    return s.compare_strings(t1String,t2String)"
   ]
  },
  {
   "cell_type": "code",
   "execution_count": 7,
   "metadata": {
    "collapsed": false
   },
   "outputs": [],
   "source": [
    "from os import listdir\n",
    "from os.path import isfile, join\n",
    "mypath=\"/Users/zangsir/time-series-classification-and-clustering/toneSub/\"\n",
    "allfiles = [ f for f in listdir(mypath) if isfile(join(mypath,f)) ]\n",
    "onlyfiles=[f for f in allfiles if f.endswith('csv')]"
   ]
  },
  {
   "cell_type": "code",
   "execution_count": null,
   "metadata": {
    "collapsed": false
   },
   "outputs": [],
   "source": []
  },
  {
   "cell_type": "code",
   "execution_count": 9,
   "metadata": {
    "collapsed": false
   },
   "outputs": [
    {
     "name": "stdout",
     "output_type": "stream",
     "text": [
      "+++++++++++++++++++++++++++++++++++\n",
      "Feature FILE: allxudn-3speakers-sorttone.csv\n",
      "run: 0\n",
      "------------------ 12 6\n",
      "num of iteration: 7\n",
      "duplicated majority class, accuracy too low!!! Exiting...\n",
      "------------------ 12 7\n",
      "duplicated majority class, accuracy too low!!! Exiting...\n",
      "------------------ 12 8\n",
      "num of iteration: 5\n",
      "------------------ 12 9\n",
      "num of iteration: 6\n",
      "duplicated majority class, accuracy too low!!! Exiting...\n",
      "------------------ 12 10\n",
      "num of iteration: 8\n",
      "------------------ 12 11\n",
      "num of iteration: 8\n",
      "duplicated majority class, accuracy too low!!! Exiting...\n",
      "------------------ 13 6\n",
      "num of iteration: 5\n",
      "------------------ 13 7\n",
      "num of iteration: 7\n",
      "duplicated majority class, accuracy too low!!! Exiting...\n",
      "------------------ 13 8\n",
      "num of iteration: 4\n",
      "duplicated majority class, accuracy too low!!! Exiting...\n",
      "------------------ 13 9\n",
      "num of iteration: 5\n",
      "duplicated majority class, accuracy too low!!! Exiting...\n",
      "------------------ 13 10\n",
      "num of iteration: 6\n",
      "duplicated majority class, accuracy too low!!! Exiting...\n",
      "------------------ 13 11\n",
      "duplicated majority class, accuracy too low!!! Exiting...\n",
      "run: 1\n",
      "------------------ 12 6\n",
      "num of iteration: 3\n",
      "duplicated majority class, accuracy too low!!! Exiting...\n",
      "------------------ 12 7\n",
      "------------------ 12 8\n",
      "num of iteration: 4\n",
      "------------------ 12 9\n",
      "num of iteration: 6\n",
      "------------------ 12 10\n",
      "------------------ 12 11\n",
      "------------------ 13 6\n",
      "num of iteration: 6\n",
      "------------------ 13 7\n",
      "num of iteration: 3\n",
      "duplicated majority class, accuracy too low!!! Exiting...\n",
      "------------------ 13 8\n",
      "------------------ 13 9\n",
      "num of iteration: 3\n",
      "duplicated majority class, accuracy too low!!! Exiting...\n",
      "------------------ 13 10\n",
      "num of iteration: 7\n",
      "------------------ 13 11\n",
      "run: 2\n",
      "------------------ 12 6\n",
      "num of iteration: 7\n",
      "------------------ 12 7\n",
      "num of iteration: 7\n",
      "duplicated majority class, accuracy too low!!! Exiting...\n",
      "------------------ 12 8\n",
      "num of iteration: 6\n",
      "------------------ 12 9\n",
      "num of iteration: 6\n",
      "------------------ 12 10\n",
      "num of iteration: 5\n",
      "duplicated majority class, accuracy too low!!! Exiting...\n",
      "------------------ 12 11\n",
      "------------------ 13 6\n",
      "num of iteration: 3\n",
      "------------------ 13 7\n",
      "num of iteration: 7\n",
      "------------------ 13 8\n",
      "num of iteration: 3\n",
      "------------------ 13 9\n",
      "------------------ 13 10\n",
      "num of iteration: 3\n",
      "------------------ 13 11\n",
      "num of iteration: 7\n",
      "duplicated majority class, accuracy too low!!! Exiting...\n",
      "run: 3\n",
      "------------------ 12 6\n",
      "num of iteration: 4\n",
      "duplicated majority class, accuracy too low!!! Exiting...\n",
      "------------------ 12 7\n",
      "num of iteration: 5\n",
      "duplicated majority class, accuracy too low!!! Exiting...\n",
      "------------------ 12 8\n",
      "num of iteration: 4\n",
      "------------------ 12 9\n",
      "num of iteration: 7\n",
      "duplicated majority class, accuracy too low!!! Exiting...\n",
      "------------------ 12 10\n",
      "num of iteration: 5\n",
      "------------------ 12 11\n",
      "num of iteration: 4\n",
      "duplicated majority class, accuracy too low!!! Exiting...\n",
      "------------------ 13 6\n",
      "num of iteration: 5\n",
      "------------------ 13 7\n",
      "num of iteration: 8\n",
      "------------------ 13 8\n",
      "------------------ 13 9\n",
      "------------------ 13 10\n",
      "duplicated majority class, accuracy too low!!! Exiting...\n",
      "------------------ 13 11\n",
      "run: 4\n",
      "------------------ 12 6\n",
      "num of iteration: 5\n",
      "------------------ 12 7\n",
      "duplicated majority class, accuracy too low!!! Exiting...\n",
      "------------------ 12 8\n",
      "num of iteration: 4\n",
      "duplicated majority class, accuracy too low!!! Exiting...\n",
      "------------------ 12 9\n",
      "num of iteration: 7\n",
      "------------------ 12 10\n",
      "num of iteration: 4\n",
      "------------------ 12 11\n",
      "------------------ 13 6\n",
      "num of iteration: 3\n",
      "------------------ 13 7\n",
      "num of iteration: 3\n",
      "duplicated majority class, accuracy too low!!! Exiting...\n",
      "------------------ 13 8\n",
      "num of iteration: 3\n",
      "------------------ 13 9\n",
      "------------------ 13 10\n",
      "------------------ 13 11\n",
      "best accuracy: 0.741145833333\n",
      "Objective Functions: [1717461333.4735096, 892485984.00311136, 855575711.61026454, 837578719.16614878, 816777552.38295043, 796060717.63123846, 793353868.8920089, 779813825.79023385, 798114426.19333911, 794354475.4776932]\n"
     ]
    },
    {
     "data": {
      "image/png": "[encoded data removed]",
      "text/plain": [
       "<matplotlib.figure.Figure at 0x106903250>"
      ]
     },
     "metadata": {},
     "output_type": "display_data"
    },
    {
     "name": "stdout",
     "output_type": "stream",
     "text": [
      "+++++++++++++++++++++++++++++++++++\n",
      "Feature FILE: row-yixunorm-bk-sorttone.csv\n",
      "run: 0\n",
      "------------------ 12 6\n",
      "------------------ 12 7\n",
      "------------------ 12 8\n",
      "num of iteration: 4\n",
      "------------------ 12 9\n",
      "num of iteration: 7\n",
      "duplicated majority class, accuracy too low!!! Exiting...\n",
      "------------------ 12 10\n",
      "duplicated majority class, accuracy too low!!! Exiting...\n",
      "------------------ 12 11\n",
      "num of iteration: 8\n",
      "------------------ 13 6\n",
      "------------------ 13 7\n",
      "------------------ 13 8\n",
      "num of iteration: 5\n",
      "------------------ 13 9\n",
      "num of iteration: 7\n",
      "duplicated majority class, accuracy too low!!! Exiting...\n",
      "------------------ 13 10\n",
      "------------------ 13 11\n",
      "run: 1\n",
      "------------------ 12 6\n",
      "num of iteration: 3\n",
      "------------------ 12 7\n",
      "num of iteration: 6\n",
      "------------------ 12 8\n",
      "num of iteration: 6\n",
      "------------------ 12 9\n",
      "------------------ 12 10\n",
      "num of iteration: 8\n",
      "------------------ 12 11\n",
      "num of iteration: 8\n",
      "------------------ 13 6\n",
      "------------------ 13 7\n",
      "num of iteration: 2\n",
      "------------------ 13 8\n",
      "num of iteration: 5\n",
      "------------------ 13 9\n",
      "num of iteration: 6\n",
      "------------------ 13 10\n",
      "num of iteration: 5\n",
      "------------------ 13 11\n",
      "run: 2\n",
      "------------------ 12 6\n",
      "num of iteration: 4\n",
      "------------------ 12 7\n",
      "num of iteration: 4\n",
      "duplicated majority class, accuracy too low!!! Exiting...\n",
      "------------------ 12 8\n",
      "num of iteration: 7\n",
      "------------------ 12 9\n",
      "num of iteration: 8\n",
      "------------------ 12 10\n",
      "------------------ 12 11\n",
      "------------------ 13 6\n",
      "num of iteration: 6\n",
      "------------------ 13 7\n",
      "num of iteration: 7\n",
      "------------------ 13 8\n",
      "num of iteration: 8\n",
      "duplicated majority class, accuracy too low!!! Exiting...\n",
      "------------------ 13 9\n",
      "num of iteration: 7\n",
      "------------------ 13 10\n",
      "------------------ 13 11\n",
      "run: 3\n",
      "------------------ 12 6\n",
      "------------------ 12 7\n",
      "num of iteration: 4\n",
      "------------------ 12 8\n",
      "num of iteration: 6\n",
      "------------------ 12 9\n",
      "num of iteration: 6\n",
      "------------------ 12 10\n",
      "num of iteration: 5\n",
      "duplicated majority class, accuracy too low!!! Exiting...\n",
      "------------------ 12 11\n",
      "------------------ 13 6\n",
      "num of iteration: 4\n",
      "------------------ 13 7\n",
      "num of iteration: 4\n",
      "duplicated majority class, accuracy too low!!! Exiting...\n",
      "------------------ 13 8\n",
      "------------------ 13 9\n",
      "num of iteration: 4\n",
      "------------------ 13 10\n",
      "------------------ 13 11\n",
      "num of iteration: 8\n",
      "run: 4\n",
      "------------------ 12 6\n",
      "------------------ 12 7\n",
      "------------------ 12 8\n",
      "num of iteration: 7\n",
      "duplicated majority class, accuracy too low!!! Exiting...\n",
      "------------------ 12 9\n",
      "duplicated majority class, accuracy too low!!! Exiting...\n",
      "------------------ 12 10\n",
      "------------------ 12 11\n",
      "num of iteration: 5\n",
      "------------------ 13 6\n",
      "num of iteration: 2\n",
      "------------------ 13 7\n",
      "num of iteration: 3\n",
      "------------------ 13 8\n",
      "num of iteration: 6\n",
      "------------------ 13 9\n",
      "num of iteration: 5\n",
      "------------------ 13 10\n",
      "num of iteration: 5\n",
      "------------------ 13 11\n",
      "num of iteration: 7\n",
      "best accuracy: 0.797395833333\n",
      "Objective Functions: [420.79926507026551, 186.18948525499394, 188.1820478399865, 190.50493190269088, 183.95158674731576, 180.0612761753641, 171.08323150142562, 165.05045611001003, 164.68436922268867, 164.64743126230434]\n"
     ]
    },
    {
     "data": {
      "image/png": "[encoded data removed]",
      "text/plain": [
       "<matplotlib.figure.Figure at 0x106938090>"
      ]
     },
     "metadata": {},
     "output_type": "display_data"
    }
   ],
   "source": [
    "#analysis:kmeans with euclidean distance with norm_bk, D1\n",
    "total_cost_log=[]\n",
    "total_accuracy_log=[]\n",
    "for file in onlyfiles:\n",
    "    fileName=mypath+file\n",
    "    data = np.genfromtxt(fileName, delimiter=',')\n",
    "    print \"+++++++++++++++++++++++++++++++++++\"\n",
    "    print \"Feature FILE:\",file\n",
    "    num_run=5\n",
    "    best_accuracy=0\n",
    "    for run in range(num_run):\n",
    "        print \"run:\",run\n",
    "        for p in range(12,14):\n",
    "            for q in range(6,12):\n",
    "                print \"------------------\",p,q\n",
    "                centroids,assignments,costLog=k_means_clust_mindist(data,4,10,p,q)\n",
    "                plt.plot(costLog,'^-')\n",
    "                accuracy=computeAccuracy(assignments)\n",
    "                #print \"accuracy:\",accuracy\n",
    "                if accuracy>best_accuracy:\n",
    "                    best_accuracy=accuracy\n",
    "                    best_cost=costLog\n",
    "    print \"best accuracy:\",best_accuracy\n",
    "    print \"Objective Functions:\",best_cost\n",
    "    plt.plot(best_cost,'^-')\n",
    "    total_cost_log.append(best_cost)\n",
    "    total_accuracy_log.append(best_accuracy)\n",
    "    for i in centroids:\n",
    "        plt.plot(i)\n",
    "    plt.show()"
   ]
  },
  {
   "cell_type": "code",
   "execution_count": 23,
   "metadata": {
    "collapsed": false
   },
   "outputs": [
    {
     "ename": "IndexError",
     "evalue": "list index out of range",
     "output_type": "error",
     "traceback": [
      "\u001b[0;31m---------------------------------------------------------------------------\u001b[0m\n\u001b[0;31mIndexError\u001b[0m                                Traceback (most recent call last)",
      "\u001b[0;32m<ipython-input-23-882c1726de79>\u001b[0m in \u001b[0;36m<module>\u001b[0;34m()\u001b[0m\n\u001b[1;32m      4\u001b[0m \u001b[0;32mfor\u001b[0m \u001b[0mi\u001b[0m\u001b[0;34m,\u001b[0m\u001b[0mcost\u001b[0m \u001b[0;32min\u001b[0m \u001b[0menumerate\u001b[0m\u001b[0;34m(\u001b[0m\u001b[0mtotal_cost_log\u001b[0m\u001b[0;34m)\u001b[0m\u001b[0;34m:\u001b[0m\u001b[0;34m\u001b[0m\u001b[0m\n\u001b[1;32m      5\u001b[0m     \u001b[0mnorm_cost\u001b[0m\u001b[0;34m=\u001b[0m\u001b[0;34m(\u001b[0m\u001b[0mcost\u001b[0m\u001b[0;34m-\u001b[0m\u001b[0mnp\u001b[0m\u001b[0;34m.\u001b[0m\u001b[0mmean\u001b[0m\u001b[0;34m(\u001b[0m\u001b[0mcost\u001b[0m\u001b[0;34m)\u001b[0m\u001b[0;34m)\u001b[0m\u001b[0;34m/\u001b[0m\u001b[0mnp\u001b[0m\u001b[0;34m.\u001b[0m\u001b[0mstd\u001b[0m\u001b[0;34m(\u001b[0m\u001b[0mcost\u001b[0m\u001b[0;34m)\u001b[0m\u001b[0;34m\u001b[0m\u001b[0m\n\u001b[0;32m----> 6\u001b[0;31m     \u001b[0mplt\u001b[0m\u001b[0;34m.\u001b[0m\u001b[0mplot\u001b[0m\u001b[0;34m(\u001b[0m\u001b[0mnorm_cost\u001b[0m\u001b[0;34m,\u001b[0m\u001b[0;34m'^-'\u001b[0m\u001b[0;34m,\u001b[0m\u001b[0mlabel\u001b[0m\u001b[0;34m=\u001b[0m\u001b[0mlabels\u001b[0m\u001b[0;34m[\u001b[0m\u001b[0mi\u001b[0m\u001b[0;34m]\u001b[0m\u001b[0;34m)\u001b[0m\u001b[0;34m\u001b[0m\u001b[0m\n\u001b[0m\u001b[1;32m      7\u001b[0m     \u001b[0mplt\u001b[0m\u001b[0;34m.\u001b[0m\u001b[0mlegend\u001b[0m\u001b[0;34m(\u001b[0m\u001b[0;34m)\u001b[0m\u001b[0;34m\u001b[0m\u001b[0m\n\u001b[1;32m      8\u001b[0m     \u001b[0mplt\u001b[0m\u001b[0;34m.\u001b[0m\u001b[0mylabel\u001b[0m\u001b[0;34m(\u001b[0m\u001b[0;34m\"Intra-cluster distance\"\u001b[0m\u001b[0;34m)\u001b[0m\u001b[0;34m\u001b[0m\u001b[0m\n",
      "\u001b[0;31mIndexError\u001b[0m: list index out of range"
     ]
    },
    {
     "data": {
      "image/png": "[encoded data removed]",
      "text/plain": [
       "<matplotlib.figure.Figure at 0x1068b7110>"
      ]
     },
     "metadata": {},
     "output_type": "display_data"
    }
   ],
   "source": [
    "len(total_cost_log)\n",
    "#line1, = plt.plot([1,2,3], label=\"Line 1\", linestyle='--')\n",
    "labels=['D1','norm-bark']\n",
    "for i,cost in enumerate(total_cost_log):\n",
    "    norm_cost=(cost-np.mean(cost))/np.std(cost)\n",
    "    plt.plot(norm_cost,'^-',label=labels[i])\n",
    "    plt.legend()\n",
    "    plt.ylabel(\"Intra-cluster distance\")\n",
    "    plt.xlabel(\"num of interation\")\n",
    "    plt.title(\"K-means clustering with SAX min_dist Objective Function\")\n",
    "plt.savefig(\"image1.pdf\")"
   ]
  },
  {
   "cell_type": "code",
   "execution_count": null,
   "metadata": {
    "collapsed": false
   },
   "outputs": [],
   "source": []
  },
  {
   "cell_type": "code",
   "execution_count": 12,
   "metadata": {
    "collapsed": false
   },
   "outputs": [],
   "source": [
    "log_sax=total_cost_log\n",
    "label_sax=labels"
   ]
  },
  {
   "cell_type": "markdown",
   "metadata": {},
   "source": [
    "## DTW clustering"
   ]
  },
  {
   "cell_type": "code",
   "execution_count": 27,
   "metadata": {
    "collapsed": false
   },
   "outputs": [],
   "source": [
    "\n",
    "from os import listdir\n",
    "from os.path import isfile, join\n",
    "mypath=\"/Users/zangsir/time-series-classification-and-clustering/toneSub/\"\n",
    "onlyfiles = [ f for f in listdir(mypath) if isfile(join(mypath,f)) ]"
   ]
  },
  {
   "cell_type": "code",
   "execution_count": null,
   "metadata": {
    "collapsed": false
   },
   "outputs": [],
   "source": []
  },
  {
   "cell_type": "code",
   "execution_count": 28,
   "metadata": {
    "collapsed": false
   },
   "outputs": [
    {
     "name": "stdout",
     "output_type": "stream",
     "text": [
      "+++++++++++++++++++++++++++++++++++\n",
      "Feature FILE: allxudn-3speakers-sorttone.csv\n",
      "run: 0\n",
      "run: 1\n",
      "run: 2\n",
      "run: 3\n",
      "run: 4\n",
      "best accuracy: 0.803645833333\n",
      "Objective Functions: [1124032670.3295798, 700247147.35584903, 589521051.22477925, 553271838.58698678, 550915437.36160564, 550298872.32866681, 546482285.79144573, 544161997.30085671, 542985914.05670178, 541162529.72821593]\n"
     ]
    },
    {
     "data": {
      "image/png": "[encoded data removed]",
      "text/plain": [
       "<matplotlib.figure.Figure at 0x106ddbc50>"
      ]
     },
     "metadata": {},
     "output_type": "display_data"
    },
    {
     "name": "stdout",
     "output_type": "stream",
     "text": [
      "+++++++++++++++++++++++++++++++++++\n",
      "Feature FILE: row-yixunorm-bk-sorttone.csv\n",
      "run: 0\n",
      "run: 1\n",
      "run: 2\n",
      "run: 3\n",
      "run: 4\n",
      "duplicated majority class, accuracy too low!!! Exiting...\n",
      "best accuracy: 0.65\n",
      "Objective Functions: [220.49777357038045, 126.4082426136281, 121.16228912259952, 116.35407258302507, 110.13901705216951, 107.50545487047245, 106.40945716085028, 105.87146029609679, 105.42535954364622, 105.14518628493488]\n"
     ]
    },
    {
     "data": {
      "image/png": "[encoded data removed]",
      "text/plain": [
       "<matplotlib.figure.Figure at 0x1069b4410>"
      ]
     },
     "metadata": {},
     "output_type": "display_data"
    }
   ],
   "source": [
    "#analysis:kmeans with DTW distance with norm_bk, D1\n",
    "total_cost_log=[]\n",
    "total_accuracy_log=[]\n",
    "for file in onlyfiles:\n",
    "    fileName=mypath+file\n",
    "    data = np.genfromtxt(fileName, delimiter=',')\n",
    "    print \"+++++++++++++++++++++++++++++++++++\"\n",
    "    print \"Feature FILE:\",file\n",
    "    num_run=5\n",
    "    best_accuracy=0\n",
    "    for run in range(num_run):\n",
    "        print \"run:\",run\n",
    "        centroids,assignments,costLog=k_means_clust_DTW_LBK(data,4,10)\n",
    "        accuracy=computeAccuracy(assignments)\n",
    "        if accuracy>best_accuracy:\n",
    "            best_accuracy=accuracy\n",
    "            best_cost=costLog\n",
    "    print \"best accuracy:\",best_accuracy\n",
    "    print \"Objective Functions:\",best_cost\n",
    "    plt.plot(best_cost,'^-')\n",
    "    total_cost_log.append(best_cost)\n",
    "    total_accuracy_log.append(best_accuracy)\n",
    "    for i in centroids:\n",
    "        plt.plot(i)\n",
    "    plt.show()"
   ]
  },
  {
   "cell_type": "code",
   "execution_count": 45,
   "metadata": {
    "collapsed": false
   },
   "outputs": [
    {
     "data": {
      "image/png": "[encoded data removed]",
      "text/plain": [
       "<matplotlib.figure.Figure at 0x106de8a50>"
      ]
     },
     "metadata": {},
     "output_type": "display_data"
    }
   ],
   "source": [
    "len(total_cost_log)\n",
    "#line1, = plt.plot([1,2,3], label=\"Line 1\", linestyle='--')\n",
    "labels=['D1','norm-bark']\n",
    "for i,cost in enumerate(total_cost_log):\n",
    "    norm_cost=(cost-np.mean(cost))/np.std(cost)\n",
    "    plt.plot(norm_cost,'^-',label=labels[i])\n",
    "    plt.legend()\n",
    "    plt.ylabel(\"Intra-cluster distance\")\n",
    "    plt.xlabel(\"num of interation\")\n",
    "    plt.title(\"K-means clustering with DTW Objective Function\")\n",
    "plt.savefig(\"image3.pdf\")"
   ]
  },
  {
   "cell_type": "code",
   "execution_count": null,
   "metadata": {
    "collapsed": false
   },
   "outputs": [],
   "source": []
  },
  {
   "cell_type": "code",
   "execution_count": 30,
   "metadata": {
    "collapsed": false
   },
   "outputs": [],
   "source": [
    "log_dtw=total_cost_log\n",
    "label_dtw=labels"
   ]
  },
  {
   "cell_type": "code",
   "execution_count": 33,
   "metadata": {
    "collapsed": false
   },
   "outputs": [
    {
     "data": {
      "text/plain": [
       "2"
      ]
     },
     "execution_count": 33,
     "metadata": {},
     "output_type": "execute_result"
    }
   ],
   "source": [
    "len(log_dtw)"
   ]
  },
  {
   "cell_type": "code",
   "execution_count": 34,
   "metadata": {
    "collapsed": false
   },
   "outputs": [
    {
     "data": {
      "text/plain": [
       "2"
      ]
     },
     "execution_count": 34,
     "metadata": {},
     "output_type": "execute_result"
    }
   ],
   "source": [
    "len(log_sax)"
   ]
  },
  {
   "cell_type": "code",
   "execution_count": 35,
   "metadata": {
    "collapsed": false
   },
   "outputs": [
    {
     "data": {
      "text/plain": [
       "5"
      ]
     },
     "execution_count": 35,
     "metadata": {},
     "output_type": "execute_result"
    }
   ],
   "source": [
    "len(log_euclid)"
   ]
  },
  {
   "cell_type": "code",
   "execution_count": 38,
   "metadata": {
    "collapsed": false
   },
   "outputs": [],
   "source": [
    "log=log_dtw+log_sax+log_euclid"
   ]
  },
  {
   "cell_type": "code",
   "execution_count": 41,
   "metadata": {
    "collapsed": false
   },
   "outputs": [],
   "source": [
    "labtot=label_dtw+label_sax+label_euclid"
   ]
  },
  {
   "cell_type": "code",
   "execution_count": 42,
   "metadata": {
    "collapsed": false
   },
   "outputs": [
    {
     "data": {
      "text/plain": [
       "['D1',\n",
       " 'norm-bark',\n",
       " 'D1',\n",
       " 'norm-bark',\n",
       " 'D1',\n",
       " 'qTA',\n",
       " 'polynomial',\n",
       " 'hertz',\n",
       " 'norm-bark']"
      ]
     },
     "execution_count": 42,
     "metadata": {},
     "output_type": "execute_result"
    }
   ],
   "source": [
    "labtot"
   ]
  },
  {
   "cell_type": "code",
   "execution_count": 43,
   "metadata": {
    "collapsed": false
   },
   "outputs": [],
   "source": [
    "labmod=['D1-dtw',\n",
    " 'norm-bk-dtw',\n",
    " 'D1-sax',\n",
    " 'norm-bk-sax',\n",
    " 'D1',\n",
    " 'qTA',\n",
    " 'polynomial',\n",
    " 'hertz',\n",
    " 'norm-bark']"
   ]
  },
  {
   "cell_type": "code",
   "execution_count": null,
   "metadata": {
    "collapsed": false
   },
   "outputs": [],
   "source": []
  },
  {
   "cell_type": "code",
   "execution_count": 46,
   "metadata": {
    "collapsed": false
   },
   "outputs": [
    {
     "data": {
      "image/png": "[encoded data removed]",
      "text/plain": [
       "<matplotlib.figure.Figure at 0x10692a610>"
      ]
     },
     "metadata": {},
     "output_type": "display_data"
    }
   ],
   "source": [
    "marks=['o-','v-','x-','s-','D-','8-','p-','*-','h-']\n",
    "labels=labmod\n",
    "for i,cost in enumerate(log):\n",
    "    norm_cost=(cost-np.mean(cost))/np.std(cost)\n",
    "    plt.plot(norm_cost,marks[i],label=labels[i])\n",
    "    plt.legend()\n",
    "    plt.ylabel(\"Intra-cluster distance\")\n",
    "    plt.xlabel(\"num of interation\")\n",
    "    plt.title(\"K-means clustering probe\")\n",
    "plt.savefig(\"imagetot.pdf\")"
   ]
  },
  {
   "cell_type": "code",
   "execution_count": null,
   "metadata": {
    "collapsed": false
   },
   "outputs": [],
   "source": []
  }
 ],
 "metadata": {
  "kernelspec": {
   "display_name": "Python 2",
   "language": "python",
   "name": "python2"
  },
  "language_info": {
   "codemirror_mode": {
    "name": "ipython",
    "version": 2
   },
   "file_extension": ".py",
   "mimetype": "text/x-python",
   "name": "python",
   "nbconvert_exporter": "python",
   "pygments_lexer": "ipython2",
   "version": "2.7.11"
  }
 },
 "nbformat": 4,
 "nbformat_minor": 0
}
