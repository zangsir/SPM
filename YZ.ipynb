{
 "cells": [
  {
   "cell_type": "markdown",
   "metadata": {},
   "source": [
    "# extract syllables"
   ]
  },
  {
   "cell_type": "code",
   "execution_count": null,
   "metadata": {
    "collapsed": true
   },
   "outputs": [],
   "source": []
  },
  {
   "cell_type": "code",
   "execution_count": 1,
   "metadata": {
    "collapsed": false
   },
   "outputs": [
    {
     "name": "stdout",
     "output_type": "stream",
     "text": [
      "/Users/zangsir/Desktop/yushi\n"
     ]
    }
   ],
   "source": [
    "cd ~/Desktop/yushi/"
   ]
  },
  {
   "cell_type": "code",
   "execution_count": 2,
   "metadata": {
    "collapsed": false
   },
   "outputs": [
    {
     "name": "stdout",
     "output_type": "stream",
     "text": [
      "LING461 Measurements.xlsx  plot_ori_pitch.py\r\n",
      "batch_interp.py            \u001b[1m\u001b[32mrun-get-pitch.sh\u001b[m\u001b[m*\r\n",
      "batch_trim.py              simple_pitch.py\r\n",
      "get-pitch-yushi.praat      \u001b[1m\u001b[34msounds-dur\u001b[m\u001b[m/\r\n",
      "pitcGao_ta.pdf             yushi-notes\r\n",
      "\u001b[1m\u001b[34mpitch\u001b[m\u001b[m/                     yushi-skp2.tab\r\n",
      "plot-pitch.py              yushi-spk1.tab\r\n"
     ]
    }
   ],
   "source": [
    "ls"
   ]
  },
  {
   "cell_type": "code",
   "execution_count": 40,
   "metadata": {
    "collapsed": false
   },
   "outputs": [],
   "source": [
    "#f=open('yushi-spk1.tab','r').read().split('\\n')\n",
    "f=open('yushi-skp2.tab','r').read().split('\\n')\n",
    "\n",
    "label=f[0].split('\\t')\n",
    "time_stamps=[[i] for i in label]\n",
    "for line in f[1:]:\n",
    "    if line!=\"\":\n",
    "        l=line.split('\\t')\n",
    "        for i in range(len(time_stamps)):\n",
    "            time_stamps[i].append(l[i])\n",
    "        \n",
    "        "
   ]
  },
  {
   "cell_type": "code",
   "execution_count": null,
   "metadata": {
    "collapsed": true
   },
   "outputs": [],
   "source": []
  },
  {
   "cell_type": "code",
   "execution_count": 41,
   "metadata": {
    "collapsed": false
   },
   "outputs": [
    {
     "data": {
      "text/plain": [
       "[['ta1S', '1.0204', '1.3188'],\n",
       " ['ta1L', '2.0519', '2.7136'],\n",
       " ['ta2S', '4.0222', '4.2791'],\n",
       " ['ta2L', '5.2444', '6.0883'],\n",
       " ['ta3S', '7.0753', '7.3094'],\n",
       " ['ta3L', '8.2961', '9.4308'],\n",
       " ['ta4S', '10.3365', '10.5'],\n",
       " ['ta4L', '11.5182', '12.2584']]"
      ]
     },
     "execution_count": 41,
     "metadata": {},
     "output_type": "execute_result"
    }
   ],
   "source": [
    "time_stamps"
   ]
  },
  {
   "cell_type": "code",
   "execution_count": 73,
   "metadata": {
    "collapsed": false
   },
   "outputs": [
    {
     "data": {
      "text/plain": [
       "['132.08325022193463',\n",
       " '132.10771817257304',\n",
       " '132.18114922345023',\n",
       " '132.30362502184914',\n",
       " '132.47528181469758',\n",
       " '132.69631070121025',\n",
       " '132.91770836420713',\n",
       " '133.0901618969565',\n",
       " '133.2134799641177',\n",
       " '133.28752564411332']"
      ]
     },
     "execution_count": 73,
     "metadata": {},
     "output_type": "execute_result"
    }
   ],
   "source": [
    "pitch[:10]"
   ]
  },
  {
   "cell_type": "code",
   "execution_count": null,
   "metadata": {
    "collapsed": true
   },
   "outputs": [],
   "source": []
  },
  {
   "cell_type": "code",
   "execution_count": 66,
   "metadata": {
    "collapsed": true
   },
   "outputs": [],
   "source": [
    "pitch_file='pitch/pitcGao_ta.tab'\n",
    "#pitch_file='pitch/pitcZHAO_hanxianbo_1.tab'\n",
    "speaker=pitch_file.split('.')[0].split('/')[1]\n",
    "def get_vec(file):\n",
    "    time=[]\n",
    "    pitch=[]\n",
    "    f=open(file,'r').read().split('\\n')\n",
    "    for line in f[1:]:\n",
    "        if line!='':\n",
    "            l=line.split('\\t')\n",
    "            time.append(l[0])\n",
    "            pitch.append(l[1])\n",
    "    return time,pitch"
   ]
  },
  {
   "cell_type": "code",
   "execution_count": null,
   "metadata": {
    "collapsed": true
   },
   "outputs": [],
   "source": []
  },
  {
   "cell_type": "code",
   "execution_count": 67,
   "metadata": {
    "collapsed": false
   },
   "outputs": [
    {
     "name": "stdout",
     "output_type": "stream",
     "text": [
      "3721 3721\n"
     ]
    }
   ],
   "source": [
    "time,pitch=get_vec(pitch_file)\n",
    "print len(time),len(pitch)\n",
    "pitch_vec=[]\n",
    "for line in time_stamps:\n",
    "    label,start,end=line[0],line[1],line[2]\n",
    "    token_id=speaker+\"_\"+label\n",
    "    duration=float(end)-float(start)\n",
    "    syl_values=[str(round(float(pitch[i]),3)) for i in range(len(pitch)) \\\n",
    "                        if float(time[i])>=float(start) and float(time[i]) <=float(end)]\n",
    "    syl_values.append(label)\n",
    "    syl_values.append(token_id)\n",
    "    syl_values.append(label[-1])\n",
    "    syl_values.append(str(duration))\n",
    "    pitch_vec.append(syl_values)"
   ]
  },
  {
   "cell_type": "code",
   "execution_count": 74,
   "metadata": {
    "collapsed": false
   },
   "outputs": [],
   "source": [
    "import numpy as np\n",
    "\n",
    "def normalize(pitch,spk_mean):\n",
    "    \"\"\"let's normalize one file for now\"\"\"\n",
    "    #normalize,log,downsample,smooth\n",
    "    #for this speaker, normalize all files of this spk\n",
    "    #print pitch[:100],'here'\n",
    "    pitch_float=[float(i) for i in pitch]\n",
    "    pitch=np.array(pitch_float)\n",
    "    log_pitch=np.log2(pitch)\n",
    "    norm_pitch=log_pitch-spk_mean\n",
    "    #log_pitch=np.log(norm_pitch)\n",
    "    #down_pitch=downsample_mix(log_pitch,30)\n",
    "    return norm_pitch\n",
    "\n",
    "pitch=[float(i) for i in pitch]\n",
    "pitch=normalize(pitch,np.mean(np.log2(pitch)))"
   ]
  },
  {
   "cell_type": "code",
   "execution_count": 75,
   "metadata": {
    "collapsed": false
   },
   "outputs": [
    {
     "data": {
      "text/plain": [
       "array([-0.67435022, -0.674083  , -0.67328131, -0.67194516, -0.67007456,\n",
       "       -0.66766949, -0.66526443, -0.66339382, -0.66205767, -0.66125599,\n",
       "       -0.66098876, -0.66078424, -0.66017071, -0.65914814, -0.65771655,\n",
       "       -0.65587593, -0.65403532, -0.65260373, -0.65158116, -0.65096762,\n",
       "       -0.65076311, -0.65091025, -0.65135165, -0.65208732, -0.65311727,\n",
       "       -0.65444148, -0.65576569, -0.65679563, -0.65753131, -0.65797271])"
      ]
     },
     "execution_count": 75,
     "metadata": {},
     "output_type": "execute_result"
    }
   ],
   "source": [
    "pitch[:30]"
   ]
  },
  {
   "cell_type": "code",
   "execution_count": null,
   "metadata": {
    "collapsed": true
   },
   "outputs": [],
   "source": []
  },
  {
   "cell_type": "code",
   "execution_count": null,
   "metadata": {
    "collapsed": true
   },
   "outputs": [],
   "source": []
  },
  {
   "cell_type": "code",
   "execution_count": null,
   "metadata": {
    "collapsed": true
   },
   "outputs": [],
   "source": []
  },
  {
   "cell_type": "code",
   "execution_count": null,
   "metadata": {
    "collapsed": true
   },
   "outputs": [],
   "source": []
  },
  {
   "cell_type": "code",
   "execution_count": null,
   "metadata": {
    "collapsed": true
   },
   "outputs": [],
   "source": []
  },
  {
   "cell_type": "code",
   "execution_count": null,
   "metadata": {
    "collapsed": true
   },
   "outputs": [],
   "source": []
  },
  {
   "cell_type": "code",
   "execution_count": null,
   "metadata": {
    "collapsed": true
   },
   "outputs": [],
   "source": []
  },
  {
   "cell_type": "code",
   "execution_count": null,
   "metadata": {
    "collapsed": true
   },
   "outputs": [],
   "source": []
  },
  {
   "cell_type": "code",
   "execution_count": null,
   "metadata": {
    "collapsed": true
   },
   "outputs": [],
   "source": []
  },
  {
   "cell_type": "code",
   "execution_count": 44,
   "metadata": {
    "collapsed": false
   },
   "outputs": [
    {
     "name": "stdout",
     "output_type": "stream",
     "text": [
      "['220.729', '220.649', '220.41', '220.011', '219.454', '218.741', '218.029', '217.477', '217.084', '216.848', '216.77', '216.742', '216.658', '216.518', '216.322', '216.07', '215.819', '215.624', '215.484', '215.401', '215.373', '215.421', '215.565', '215.806', '216.143', '216.577', '217.012', '217.351', '217.593', '217.739', '217.787', '217.817', '217.906', '218.054', '218.262', '218.53', '218.798', '219.006', '219.155', '219.245', '219.275', '219.311', '219.418', '219.598', '219.85', '220.175', '220.5', '220.753', '220.934', '221.043', '221.079', '221.125', '221.263', '221.493', '221.816', '222.232', '222.648', '222.972', '223.204', '223.344', '223.39', '223.421', '223.513', '223.666', '223.881', '224.158', '224.435', '224.651', '224.805', '224.898', '224.928', '224.956', '225.038', '225.176', '225.369', '225.617', '225.865', '226.058', '226.196', '226.279', '226.307', '226.317', '226.345', '226.393', '226.46', '226.547', '226.633', '226.701', '226.749', '226.777', '226.787', '226.789', '226.793', '226.801', '226.812', '226.826', '226.84', '226.851', '226.859', '226.863', '226.865', '226.868', '226.879', '226.898', '226.924', '226.957', '226.99', '227.015', '227.034', '227.045', '227.049', '227.066', '227.117', '227.202', '227.321', '227.475', '227.629', '227.749', '227.834', '227.885', '227.903', '227.899', '227.887', '227.867', '227.839', '227.803', '227.767', '227.739', '227.719', '227.707', '227.703', '227.691', '227.654', '227.592', '227.506', '227.395', '227.284', '227.197', '227.136', '227.099', '227.086', '227.09', '227.102', '227.121', '227.148', '227.182', '227.217', '227.244', '227.263', '227.274', '227.278', '227.305', '227.384', '227.517', '227.703', '227.942', '228.181', '228.367', '228.501', '228.581', '228.607', '228.647', '228.765', '228.963', '229.24', '229.597', '229.955', '230.233', '230.432', '230.552', '230.592', '230.636', '230.767', '230.987', '231.295', '231.692', '232.089', '232.399', '232.62', '232.753', '232.797', '232.816', '232.872', '232.965', '233.095', '233.263', '233.431', '233.562', '233.655', '233.711', '233.73', '233.77', '233.888', '234.086', '234.364', '234.721', '235.079', '235.357', '235.556', '235.676', '235.716', '235.728', '235.765', '235.827', '235.914', '236.026', '236.137', '236.224', '236.286', '236.324', '236.336', '236.365', '236.451', '236.594', '236.796', '237.055', '237.314', '237.516', '237.66', '237.747', '237.776', '237.916', '238.338', '239.042', '240.032', '241.311', '242.597', '243.602', '244.322', '244.755', '244.9', '244.92', '244.979', '245.079', '245.218', '245.396', '245.576', '245.715', '245.814', '245.874', '245.894', '245.851', '245.722', '245.507', '245.206', '244.82', '244.435', '244.135', '243.922', '243.794', '243.751', '243.694', '243.523', '243.239', '242.842', '242.332', '241.823', '241.428', '241.146', '240.977', '240.921', '241.014', '241.295', '241.763', '242.42', '243.267', '244.118', '244.781', '245.256', '245.542', '245.637', 'ta1S', 'pitcZHAO_hanxianbo_1_ta1S', 'S', '0.2984']\n"
     ]
    }
   ],
   "source": [
    "print pitch_vec[0]"
   ]
  },
  {
   "cell_type": "code",
   "execution_count": null,
   "metadata": {
    "collapsed": true
   },
   "outputs": [],
   "source": []
  },
  {
   "cell_type": "code",
   "execution_count": 45,
   "metadata": {
    "collapsed": false
   },
   "outputs": [],
   "source": [
    "f=open(\"syl_pitch_2.csv\",'a')\n",
    "for pv in pitch_vec:\n",
    "    line=','.join(pv)\n",
    "    f.write(line)\n",
    "    f.write('\\n')\n",
    "f.close()"
   ]
  },
  {
   "cell_type": "markdown",
   "metadata": {},
   "source": [
    "# then, using downsample to derive 30-point pitch contours"
   ]
  },
  {
   "cell_type": "code",
   "execution_count": null,
   "metadata": {
    "collapsed": true
   },
   "outputs": [],
   "source": [
    "#using downsample.py"
   ]
  },
  {
   "cell_type": "markdown",
   "metadata": {},
   "source": [
    "# look at downsampled 30-point curves"
   ]
  },
  {
   "cell_type": "code",
   "execution_count": 77,
   "metadata": {
    "collapsed": false
   },
   "outputs": [],
   "source": [
    "f=open('downsample_syl.csv','r').read().split('\\n')\n",
    "pitch_vec_total=[]\n",
    "meta=[]\n",
    "for line in f:\n",
    "    if line!=\"\":\n",
    "        l=line.split(',')\n",
    "        pitch=[float(i) for i in l[:-6]]\n",
    "        meta.append(l[-6:])\n",
    "        pitch_vec_total.append(pitch)"
   ]
  },
  {
   "cell_type": "code",
   "execution_count": null,
   "metadata": {
    "collapsed": true
   },
   "outputs": [],
   "source": []
  },
  {
   "cell_type": "code",
   "execution_count": null,
   "metadata": {
    "collapsed": true
   },
   "outputs": [],
   "source": []
  },
  {
   "cell_type": "code",
   "execution_count": null,
   "metadata": {
    "collapsed": true
   },
   "outputs": [],
   "source": []
  },
  {
   "cell_type": "code",
   "execution_count": 78,
   "metadata": {
    "collapsed": false
   },
   "outputs": [
    {
     "name": "stdout",
     "output_type": "stream",
     "text": [
      "[0.342, 0.344, 0.343, 0.342, 0.341, 0.339, 0.337, 0.332, 0.327, 0.324, 0.32, 0.313, 0.307, 0.302, 0.298, 0.287, 0.285, 0.291, 0.295, 0.303, 0.313, 0.324, 0.339, 0.358, 0.381, 0.394, 0.408, 0.412, 0.392, 0.362]\n"
     ]
    }
   ],
   "source": [
    "print pitch_vec_total[0]"
   ]
  },
  {
   "cell_type": "code",
   "execution_count": null,
   "metadata": {
    "collapsed": true
   },
   "outputs": [],
   "source": []
  },
  {
   "cell_type": "code",
   "execution_count": 79,
   "metadata": {
    "collapsed": false
   },
   "outputs": [
    {
     "data": {
      "text/plain": [
       "[['ta1S', 'pitcGao_ta_ta1S', 'S', '0.2839', '1', 'pitcGao_ta'],\n",
       " ['ta1L', 'pitcGao_ta_ta1L', 'L', '0.7395', '1', 'pitcGao_ta'],\n",
       " ['ta2S', 'pitcGao_ta_ta2S', 'S', '0.4021', '2', 'pitcGao_ta'],\n",
       " ['ta2L', 'pitcGao_ta_ta2L', 'L', '0.5929', '2', 'pitcGao_ta'],\n",
       " ['ta3S', 'pitcGao_ta_ta3S', 'S', '0.4218', '3', 'pitcGao_ta'],\n",
       " ['ta3L', 'pitcGao_ta_ta3L', 'L', '0.8436', '3', 'pitcGao_ta'],\n",
       " ['ta4S', 'pitcGao_ta_ta4S', 'S', '0.3197', '4', 'pitcGao_ta'],\n",
       " ['ta4L', 'pitcGao_ta_ta4L', 'L', '0.4473', '4', 'pitcGao_ta'],\n",
       " ['ta1S',\n",
       "  'pitcZHAO_hanxianbo_1_ta1S',\n",
       "  'S',\n",
       "  '0.2984',\n",
       "  '1',\n",
       "  'pitcZHAO_hanxianbo_1'],\n",
       " ['ta1L',\n",
       "  'pitcZHAO_hanxianbo_1_ta1L',\n",
       "  'L',\n",
       "  '0.6617',\n",
       "  '1',\n",
       "  'pitcZHAO_hanxianbo_1'],\n",
       " ['ta2S',\n",
       "  'pitcZHAO_hanxianbo_1_ta2S',\n",
       "  'S',\n",
       "  '0.2569',\n",
       "  '2',\n",
       "  'pitcZHAO_hanxianbo_1'],\n",
       " ['ta2L',\n",
       "  'pitcZHAO_hanxianbo_1_ta2L',\n",
       "  'L',\n",
       "  '0.8439',\n",
       "  '2',\n",
       "  'pitcZHAO_hanxianbo_1'],\n",
       " ['ta3S',\n",
       "  'pitcZHAO_hanxianbo_1_ta3S',\n",
       "  'S',\n",
       "  '0.2341',\n",
       "  '3',\n",
       "  'pitcZHAO_hanxianbo_1'],\n",
       " ['ta3L',\n",
       "  'pitcZHAO_hanxianbo_1_ta3L',\n",
       "  'L',\n",
       "  '1.1347',\n",
       "  '3',\n",
       "  'pitcZHAO_hanxianbo_1'],\n",
       " ['ta4S',\n",
       "  'pitcZHAO_hanxianbo_1_ta4S',\n",
       "  'S',\n",
       "  '0.1635',\n",
       "  '4',\n",
       "  'pitcZHAO_hanxianbo_1'],\n",
       " ['ta4L',\n",
       "  'pitcZHAO_hanxianbo_1_ta4L',\n",
       "  'L',\n",
       "  '0.7402',\n",
       "  '4',\n",
       "  'pitcZHAO_hanxianbo_1']]"
      ]
     },
     "execution_count": 79,
     "metadata": {},
     "output_type": "execute_result"
    }
   ],
   "source": [
    "meta"
   ]
  },
  {
   "cell_type": "code",
   "execution_count": null,
   "metadata": {
    "collapsed": true
   },
   "outputs": [],
   "source": []
  },
  {
   "cell_type": "code",
   "execution_count": 80,
   "metadata": {
    "collapsed": false
   },
   "outputs": [
    {
     "data": {
      "text/plain": [
       "30"
      ]
     },
     "execution_count": 80,
     "metadata": {},
     "output_type": "execute_result"
    }
   ],
   "source": [
    "len(pitch)"
   ]
  },
  {
   "cell_type": "code",
   "execution_count": null,
   "metadata": {
    "collapsed": true
   },
   "outputs": [],
   "source": []
  },
  {
   "cell_type": "code",
   "execution_count": 81,
   "metadata": {
    "collapsed": false
   },
   "outputs": [
    {
     "data": {
      "text/plain": [
       "0.525"
      ]
     },
     "execution_count": 81,
     "metadata": {},
     "output_type": "execute_result"
    }
   ],
   "source": [
    "pitch[0]"
   ]
  },
  {
   "cell_type": "code",
   "execution_count": null,
   "metadata": {
    "collapsed": true
   },
   "outputs": [],
   "source": []
  },
  {
   "cell_type": "code",
   "execution_count": 60,
   "metadata": {
    "collapsed": false
   },
   "outputs": [
    {
     "data": {
      "text/plain": [
       "<matplotlib.legend.Legend at 0x1075c2850>"
      ]
     },
     "execution_count": 60,
     "metadata": {},
     "output_type": "execute_result"
    },
    {
     "data": {
      "image/png": "[encoded data removed]",
      "text/plain": [
       "<matplotlib.figure.Figure at 0x106f4e110>"
      ]
     },
     "metadata": {},
     "output_type": "display_data"
    }
   ],
   "source": [
    "## look at tone 1\n",
    "%matplotlib inline\n",
    "import matplotlib.pyplot as plt\n",
    "\n",
    "plt.plot(pitch_vec_total[0],label=\"spk1_short\")\n",
    "plt.plot(pitch_vec_total[1],label=\"spk1_long\")\n",
    "plt.plot(pitch_vec_total[8],label=\"spk2_short\")\n",
    "plt.plot(pitch_vec_total[9],label=\"spk2_long\")\n",
    "\n",
    "plt.title('tone1')\n",
    "plt.legend(loc='upper center', shadow=True)"
   ]
  },
  {
   "cell_type": "code",
   "execution_count": 85,
   "metadata": {
    "collapsed": false
   },
   "outputs": [
    {
     "data": {
      "text/plain": [
       "<matplotlib.legend.Legend at 0x108b30b50>"
      ]
     },
     "execution_count": 85,
     "metadata": {},
     "output_type": "execute_result"
    },
    {
     "data": {
      "image/png": "[encoded data removed]",
      "text/plain": [
       "<matplotlib.figure.Figure at 0x107e01c90>"
      ]
     },
     "metadata": {},
     "output_type": "display_data"
    }
   ],
   "source": [
    "## look at tone 1 pitch normalized\n",
    "%matplotlib inline\n",
    "import matplotlib.pyplot as plt\n",
    "\n",
    "plt.plot(pitch_vec_total[0],label=\"spk1_short\")\n",
    "plt.plot(pitch_vec_total[1],label=\"spk1_long\")\n",
    "plt.plot(pitch_vec_total[8],label=\"spk2_short\")\n",
    "plt.plot(pitch_vec_total[9],label=\"spk2_long\")\n",
    "\n",
    "plt.title('tone1 normalized pitch')\n",
    "plt.legend(loc='upper center', shadow=True)"
   ]
  },
  {
   "cell_type": "code",
   "execution_count": null,
   "metadata": {
    "collapsed": true
   },
   "outputs": [],
   "source": []
  },
  {
   "cell_type": "code",
   "execution_count": null,
   "metadata": {
    "collapsed": true
   },
   "outputs": [],
   "source": []
  },
  {
   "cell_type": "code",
   "execution_count": 61,
   "metadata": {
    "collapsed": false
   },
   "outputs": [
    {
     "data": {
      "text/plain": [
       "<matplotlib.legend.Legend at 0x107849f90>"
      ]
     },
     "execution_count": 61,
     "metadata": {},
     "output_type": "execute_result"
    },
    {
     "data": {
      "image/png": "[encoded data removed]",
      "text/plain": [
       "<matplotlib.figure.Figure at 0x106f4e510>"
      ]
     },
     "metadata": {},
     "output_type": "display_data"
    }
   ],
   "source": [
    "## look at tone 2\n",
    "%matplotlib inline\n",
    "import matplotlib.pyplot as plt\n",
    "\n",
    "plt.plot(pitch_vec_total[2],label=\"spk1_short\")\n",
    "plt.plot(pitch_vec_total[3],label=\"spk1_long\")\n",
    "plt.plot(pitch_vec_total[10],label=\"spk2_short\")\n",
    "plt.plot(pitch_vec_total[11],label=\"spk2_long\")\n",
    "\n",
    "plt.title('tone2')\n",
    "plt.legend(loc='upper center', shadow=True)"
   ]
  },
  {
   "cell_type": "code",
   "execution_count": 86,
   "metadata": {
    "collapsed": false
   },
   "outputs": [
    {
     "data": {
      "text/plain": [
       "<matplotlib.legend.Legend at 0x108ea7050>"
      ]
     },
     "execution_count": 86,
     "metadata": {},
     "output_type": "execute_result"
    },
    {
     "data": {
      "image/png": "[encoded data removed]",
      "text/plain": [
       "<matplotlib.figure.Figure at 0x107e0d210>"
      ]
     },
     "metadata": {},
     "output_type": "display_data"
    }
   ],
   "source": [
    "## look at tone 2 normalized\n",
    "%matplotlib inline\n",
    "import matplotlib.pyplot as plt\n",
    "\n",
    "plt.plot(pitch_vec_total[2],label=\"spk1_short\")\n",
    "plt.plot(pitch_vec_total[3],label=\"spk1_long\")\n",
    "plt.plot(pitch_vec_total[10],label=\"spk2_short\")\n",
    "plt.plot(pitch_vec_total[11],label=\"spk2_long\")\n",
    "\n",
    "plt.title('tone2 normalized pitch')\n",
    "plt.legend(loc='upper center', shadow=True)"
   ]
  },
  {
   "cell_type": "code",
   "execution_count": null,
   "metadata": {
    "collapsed": true
   },
   "outputs": [],
   "source": []
  },
  {
   "cell_type": "code",
   "execution_count": null,
   "metadata": {
    "collapsed": true
   },
   "outputs": [],
   "source": []
  },
  {
   "cell_type": "code",
   "execution_count": null,
   "metadata": {
    "collapsed": true
   },
   "outputs": [],
   "source": []
  },
  {
   "cell_type": "code",
   "execution_count": 62,
   "metadata": {
    "collapsed": false
   },
   "outputs": [
    {
     "data": {
      "text/plain": [
       "<matplotlib.legend.Legend at 0x107ab6d90>"
      ]
     },
     "execution_count": 62,
     "metadata": {},
     "output_type": "execute_result"
    },
    {
     "data": {
      "image/png": "[encoded data removed]",
      "text/plain": [
       "<matplotlib.figure.Figure at 0x10753d7d0>"
      ]
     },
     "metadata": {},
     "output_type": "display_data"
    }
   ],
   "source": [
    "## look at tone 3\n",
    "%matplotlib inline\n",
    "import matplotlib.pyplot as plt\n",
    "\n",
    "plt.plot(pitch_vec_total[4],label=\"spk1_short\")\n",
    "plt.plot(pitch_vec_total[5],label=\"spk1_long\")\n",
    "plt.plot(pitch_vec_total[12],label=\"spk2_short\")\n",
    "plt.plot(pitch_vec_total[13],label=\"spk2_long\")\n",
    "\n",
    "plt.title('tone3')\n",
    "plt.legend(loc='upper center', shadow=True)"
   ]
  },
  {
   "cell_type": "code",
   "execution_count": 87,
   "metadata": {
    "collapsed": false
   },
   "outputs": [
    {
     "data": {
      "text/plain": [
       "<matplotlib.legend.Legend at 0x108f63750>"
      ]
     },
     "execution_count": 87,
     "metadata": {},
     "output_type": "execute_result"
    },
    {
     "data": {
      "image/png": "[encoded data removed]",
      "text/plain": [
       "<matplotlib.figure.Figure at 0x107e0d510>"
      ]
     },
     "metadata": {},
     "output_type": "display_data"
    }
   ],
   "source": [
    "## look at tone 3 normalized\n",
    "%matplotlib inline\n",
    "import matplotlib.pyplot as plt\n",
    "\n",
    "plt.plot(pitch_vec_total[4],label=\"spk1_short\")\n",
    "plt.plot(pitch_vec_total[5],label=\"spk1_long\")\n",
    "plt.plot(pitch_vec_total[12],label=\"spk2_short\")\n",
    "plt.plot(pitch_vec_total[13],label=\"spk2_long\")\n",
    "\n",
    "plt.title('tone3 normalized pitch')\n",
    "plt.legend(loc='upper center', shadow=True)"
   ]
  },
  {
   "cell_type": "code",
   "execution_count": null,
   "metadata": {
    "collapsed": true
   },
   "outputs": [],
   "source": []
  },
  {
   "cell_type": "code",
   "execution_count": 63,
   "metadata": {
    "collapsed": false
   },
   "outputs": [
    {
     "data": {
      "text/plain": [
       "<matplotlib.legend.Legend at 0x107c40c50>"
      ]
     },
     "execution_count": 63,
     "metadata": {},
     "output_type": "execute_result"
    },
    {
     "data": {
      "image/png": "[encoded data removed]",
      "text/plain": [
       "<matplotlib.figure.Figure at 0x10714f610>"
      ]
     },
     "metadata": {},
     "output_type": "display_data"
    }
   ],
   "source": [
    "## look at tone 4\n",
    "%matplotlib inline\n",
    "import matplotlib.pyplot as plt\n",
    "\n",
    "plt.plot(pitch_vec_total[6],label=\"spk1_short\")\n",
    "plt.plot(pitch_vec_total[7],label=\"spk1_long\")\n",
    "plt.plot(pitch_vec_total[14],label=\"spk2_short\")\n",
    "plt.plot(pitch_vec_total[15],label=\"spk2_long\")\n",
    "\n",
    "plt.title('tone4')\n",
    "plt.legend(loc='upper center', shadow=True)"
   ]
  },
  {
   "cell_type": "code",
   "execution_count": 88,
   "metadata": {
    "collapsed": false
   },
   "outputs": [
    {
     "data": {
      "text/plain": [
       "<matplotlib.legend.Legend at 0x109299a50>"
      ]
     },
     "execution_count": 88,
     "metadata": {},
     "output_type": "execute_result"
    },
    {
     "data": {
      "image/png": "[encoded data removed]",
      "text/plain": [
       "<matplotlib.figure.Figure at 0x108828450>"
      ]
     },
     "metadata": {},
     "output_type": "display_data"
    }
   ],
   "source": [
    "## look at tone 4 normalized\n",
    "%matplotlib inline\n",
    "import matplotlib.pyplot as plt\n",
    "\n",
    "plt.plot(pitch_vec_total[6],label=\"spk1_short\")\n",
    "plt.plot(pitch_vec_total[7],label=\"spk1_long\")\n",
    "plt.plot(pitch_vec_total[14],label=\"spk2_short\")\n",
    "plt.plot(pitch_vec_total[15],label=\"spk2_long\")\n",
    "\n",
    "plt.title('tone4 normalized pitch')\n",
    "plt.legend(loc='upper center', shadow=True)"
   ]
  },
  {
   "cell_type": "code",
   "execution_count": null,
   "metadata": {
    "collapsed": true
   },
   "outputs": [],
   "source": []
  },
  {
   "cell_type": "markdown",
   "metadata": {},
   "source": [
    "## convert to R format"
   ]
  },
  {
   "cell_type": "markdown",
   "metadata": {},
   "source": [
    "0.342,0.344,0.343,0.342,0.341,0.339,0.337,0.332,0.327,0.324,0.32,0.313,0.307,0.302,0.298,0.287,0.285,0.291,0.295,\n",
    "0.303,0.313,0.324,0.339,0.358,0.381,0.394,0.408,0.412,0.392,0.362,ta1S,pitcGao_ta_ta1S,S,0.2839,1,pitcGao_ta"
   ]
  },
  {
   "cell_type": "code",
   "execution_count": 91,
   "metadata": {
    "collapsed": false
   },
   "outputs": [
    {
     "name": "stdout",
     "output_type": "stream",
     "text": [
      "[0.342, 0.344, 0.343, 0.342, 0.341, 0.339, 0.337, 0.332, 0.327, 0.324, 0.32, 0.313, 0.307, 0.302, 0.298, 0.287, 0.285, 0.291, 0.295, 0.303, 0.313, 0.324, 0.339, 0.358, 0.381, 0.394, 0.408, 0.412, 0.392, 0.362]\n"
     ]
    }
   ],
   "source": [
    "print pitch_vec_total[0]"
   ]
  },
  {
   "cell_type": "code",
   "execution_count": null,
   "metadata": {
    "collapsed": true
   },
   "outputs": [],
   "source": []
  },
  {
   "cell_type": "code",
   "execution_count": null,
   "metadata": {
    "collapsed": true
   },
   "outputs": [],
   "source": []
  },
  {
   "cell_type": "code",
   "execution_count": 92,
   "metadata": {
    "collapsed": false
   },
   "outputs": [
    {
     "name": "stdout",
     "output_type": "stream",
     "text": [
      "16 16\n"
     ]
    }
   ],
   "source": [
    "print len(pitch_vec_total),len(meta)"
   ]
  },
  {
   "cell_type": "code",
   "execution_count": 101,
   "metadata": {
    "collapsed": false
   },
   "outputs": [
    {
     "data": {
      "text/plain": [
       "['ta1S', 'pitcGao_ta_ta1S', 'S', '0.2839', '1', 'pitcGao_ta']"
      ]
     },
     "execution_count": 101,
     "metadata": {},
     "output_type": "execute_result"
    }
   ],
   "source": [
    "meta[0]"
   ]
  },
  {
   "cell_type": "code",
   "execution_count": null,
   "metadata": {
    "collapsed": true
   },
   "outputs": [],
   "source": []
  },
  {
   "cell_type": "code",
   "execution_count": null,
   "metadata": {
    "collapsed": true
   },
   "outputs": [],
   "source": []
  },
  {
   "cell_type": "markdown",
   "metadata": {},
   "source": [
    "want format: columns: speaker, segment,time_frame,token_id,dur,pitch,tone"
   ]
  },
  {
   "cell_type": "code",
   "execution_count": 103,
   "metadata": {
    "collapsed": false
   },
   "outputs": [],
   "source": [
    "header=\"segment,token_id,duration_type,duration,tone,speaker,time_frame,pitch\\n\"\n",
    "outfile='dur_data_col.csv'\n",
    "f=open(outfile,'w')\n",
    "f.write(header)\n",
    "f.close()\n",
    "\n",
    "f=open(outfile,'a')\n",
    "for i in range(len(pitch_vec_total)):\n",
    "    pitch_syl=pitch_vec_total[i]\n",
    "    #pitch_vect=[str(j) for j in pitch_vec_total[i]]\n",
    "    #pitch_line=','.join(pitch_vect)\n",
    "    meta_line=','.join(meta[i])\n",
    "    for k in range(len(pitch_syl)):\n",
    "        f.write(meta_line+\",\" + str(k) + \",\" +str(pitch_syl[k]))\n",
    "        f.write('\\n')\n",
    "f.close()\n",
    "        "
   ]
  },
  {
   "cell_type": "code",
   "execution_count": null,
   "metadata": {
    "collapsed": true
   },
   "outputs": [],
   "source": []
  },
  {
   "cell_type": "code",
   "execution_count": null,
   "metadata": {
    "collapsed": true
   },
   "outputs": [],
   "source": []
  },
  {
   "cell_type": "code",
   "execution_count": null,
   "metadata": {
    "collapsed": true
   },
   "outputs": [],
   "source": []
  },
  {
   "cell_type": "code",
   "execution_count": null,
   "metadata": {
    "collapsed": true
   },
   "outputs": [],
   "source": []
  },
  {
   "cell_type": "code",
   "execution_count": null,
   "metadata": {
    "collapsed": true
   },
   "outputs": [],
   "source": []
  },
  {
   "cell_type": "code",
   "execution_count": null,
   "metadata": {
    "collapsed": true
   },
   "outputs": [],
   "source": []
  },
  {
   "cell_type": "code",
   "execution_count": 95,
   "metadata": {
    "collapsed": false
   },
   "outputs": [
    {
     "data": {
      "text/plain": [
       "'0.525,0.524,0.488,0.468,0.469,0.436,0.403,0.384,0.35,0.302,0.268,0.228,0.167,0.098,0.032,-0.017,-0.046,-0.065,-0.119,-0.186,-0.265,-0.283,-0.347,-0.495,-0.622,-0.736,-0.786,-0.452,-0.262,-0.036'"
      ]
     },
     "execution_count": 95,
     "metadata": {},
     "output_type": "execute_result"
    }
   ],
   "source": [
    "pitch_line"
   ]
  },
  {
   "cell_type": "code",
   "execution_count": null,
   "metadata": {
    "collapsed": true
   },
   "outputs": [],
   "source": []
  },
  {
   "cell_type": "code",
   "execution_count": null,
   "metadata": {
    "collapsed": true
   },
   "outputs": [],
   "source": []
  },
  {
   "cell_type": "code",
   "execution_count": null,
   "metadata": {
    "collapsed": true
   },
   "outputs": [],
   "source": []
  },
  {
   "cell_type": "code",
   "execution_count": null,
   "metadata": {
    "collapsed": true
   },
   "outputs": [],
   "source": []
  },
  {
   "cell_type": "code",
   "execution_count": null,
   "metadata": {
    "collapsed": true
   },
   "outputs": [],
   "source": []
  },
  {
   "cell_type": "code",
   "execution_count": null,
   "metadata": {
    "collapsed": true
   },
   "outputs": [],
   "source": []
  },
  {
   "cell_type": "code",
   "execution_count": null,
   "metadata": {
    "collapsed": true
   },
   "outputs": [],
   "source": []
  },
  {
   "cell_type": "code",
   "execution_count": null,
   "metadata": {
    "collapsed": true
   },
   "outputs": [],
   "source": []
  },
  {
   "cell_type": "code",
   "execution_count": null,
   "metadata": {
    "collapsed": true
   },
   "outputs": [],
   "source": []
  },
  {
   "cell_type": "code",
   "execution_count": null,
   "metadata": {
    "collapsed": true
   },
   "outputs": [],
   "source": []
  }
 ],
 "metadata": {
  "kernelspec": {
   "display_name": "Python 2",
   "language": "python",
   "name": "python2"
  },
  "language_info": {
   "codemirror_mode": {
    "name": "ipython",
    "version": 2
   },
   "file_extension": ".py",
   "mimetype": "text/x-python",
   "name": "python",
   "nbconvert_exporter": "python",
   "pygments_lexer": "ipython2",
   "version": "2.7.12"
  }
 },
 "nbformat": 4,
 "nbformat_minor": 0
}
