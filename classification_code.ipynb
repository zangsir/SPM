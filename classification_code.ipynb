{
 "cells": [
  {
   "cell_type": "markdown",
   "metadata": {},
   "source": [
    "# Simple example of svm code"
   ]
  },
  {
   "cell_type": "code",
   "execution_count": null,
   "metadata": {
    "collapsed": true
   },
   "outputs": [],
   "source": []
  },
  {
   "cell_type": "code",
   "execution_count": null,
   "metadata": {
    "collapsed": true
   },
   "outputs": [],
   "source": []
  },
  {
   "cell_type": "code",
   "execution_count": 1,
   "metadata": {
    "collapsed": true
   },
   "outputs": [],
   "source": [
    "import numpy as np\n",
    "import matplotlib.pyplot as plt\n",
    "from matplotlib import style\n",
    "style.use(\"ggplot\")\n",
    "from sklearn import svm"
   ]
  },
  {
   "cell_type": "code",
   "execution_count": 5,
   "metadata": {
    "collapsed": false
   },
   "outputs": [
    {
     "name": "stdout",
     "output_type": "stream",
     "text": [
      "[0]\n",
      "[1]\n",
      "[ 0.1380943   0.24462418]\n"
     ]
    },
    {
     "data": {
      "image/png": "[encoded data removed]",
      "text/plain": [
       "<matplotlib.figure.Figure at 0x49c3b00>"
      ]
     },
     "metadata": {},
     "output_type": "display_data"
    }
   ],
   "source": [
    "X = np.array([[1,2],\n",
    "             [5,8],\n",
    "             [1.5,1.8],\n",
    "             [8,8],\n",
    "             [1,0.6],\n",
    "             [9,11]])\n",
    "y = [0,1,0,1,0,1]\n",
    "clf = svm.SVC(kernel='linear', C = 1.0)\n",
    "clf.fit(X,y)\n",
    "print(clf.predict([[0.58,0.76]]))\n",
    "print(clf.predict([[10.58,10.76]]))\n",
    "w = clf.coef_[0]\n",
    "print(w)\n",
    "\n",
    "a = -w[0] / w[1]\n",
    "\n",
    "xx = np.linspace(0,12)\n",
    "yy = a * xx - clf.intercept_[0] / w[1]\n",
    "\n",
    "h0 = plt.plot(xx, yy, 'k-', label=\"non weighted div\")\n",
    "\n",
    "plt.scatter(X[:, 0], X[:, 1], c = y)\n",
    "plt.legend()\n",
    "plt.show()"
   ]
  },
  {
   "cell_type": "code",
   "execution_count": null,
   "metadata": {
    "collapsed": true
   },
   "outputs": [],
   "source": []
  },
  {
   "cell_type": "markdown",
   "metadata": {},
   "source": [
    "# try reading out data on 2 feature 3-class SVM classification"
   ]
  },
  {
   "cell_type": "code",
   "execution_count": 71,
   "metadata": {
    "collapsed": true
   },
   "outputs": [],
   "source": [
    "def train_svm_eval(data,labels):\n",
    "    \n",
    "    clf = svm.SVC(C = 1.0)\n",
    "    clf.fit(data,labels)\n",
    "    y_pred=clf.predict(data)\n",
    "    return accuracy_score(labels,y_pred)\n",
    "    \n",
    "def train_dtree_eval(data,labels):\n",
    "    clf = tree.DecisionTreeClassifier()\n",
    "    clf = clf.fit(data, labels)\n",
    "    y_pred=clf.predict(data)\n",
    "    return accuracy_score(labels,y_pred)\n",
    "\n",
    "def get_data_labels(train_data):\n",
    "    f=open(train_data,'r').read().split('\\n')\n",
    "    data=[]\n",
    "    for l in f[1:-1]:\n",
    "        line=l.split(',')\n",
    "        this_data=[]\n",
    "        for i in line[:-1]:\n",
    "            this_data.append(float(i))\n",
    "        data.append(this_data)\n",
    "    \n",
    "    labels=[l.split(',')[-1] for l in f[1:-1]]\n",
    "    return np.array(data),labels"
   ]
  },
  {
   "cell_type": "code",
   "execution_count": 86,
   "metadata": {
    "collapsed": false
   },
   "outputs": [],
   "source": [
    "from sklearn.model_selection import train_test_split\n",
    "X_train, X_test, y_train, y_test = train_test_split(data, labels, test_size=0.1, random_state=0)\n"
   ]
  },
  {
   "cell_type": "code",
   "execution_count": 75,
   "metadata": {
    "collapsed": false
   },
   "outputs": [
    {
     "name": "stdout",
     "output_type": "stream",
     "text": [
      "0.889763779528\n",
      "1.0\n"
     ]
    }
   ],
   "source": [
    "train_data='bigram_100p_train/comp_tlc_3cl.csv'\n",
    "train_data='merged_train_data/comp_2cl1.csv'\n",
    "data,labels=get_data_labels(train_data)\n",
    "X_train, X_test, y_train, y_test = train_test_split(data, labels, test_size=0.1, random_state=0)\n",
    "\n",
    "\n",
    "print train_svm_eval(data,labels)\n",
    "print train_dtree_eval(data,labels)"
   ]
  },
  {
   "cell_type": "code",
   "execution_count": 92,
   "metadata": {
    "collapsed": false
   },
   "outputs": [
    {
     "data": {
      "text/plain": [
       "DecisionTreeClassifier(class_weight=None, criterion='gini', max_depth=None,\n",
       "            max_features=None, max_leaf_nodes=None,\n",
       "            min_impurity_split=1e-07, min_samples_leaf=1,\n",
       "            min_samples_split=2, min_weight_fraction_leaf=0.0,\n",
       "            presort=False, random_state=None, splitter='best')"
      ]
     },
     "execution_count": 92,
     "metadata": {},
     "output_type": "execute_result"
    }
   ],
   "source": [
    "clf"
   ]
  },
  {
   "cell_type": "markdown",
   "metadata": {},
   "source": [
    "# final solution: using cross_val_score"
   ]
  },
  {
   "cell_type": "markdown",
   "metadata": {},
   "source": [
    "## procedural code"
   ]
  },
  {
   "cell_type": "code",
   "execution_count": null,
   "metadata": {
    "collapsed": true
   },
   "outputs": [],
   "source": []
  },
  {
   "cell_type": "code",
   "execution_count": 102,
   "metadata": {
    "collapsed": false
   },
   "outputs": [
    {
     "name": "stdout",
     "output_type": "stream",
     "text": [
      "SVM\n",
      "0.867307692308\n",
      "Accuracy: 0.87 (+/- 0.22)\n",
      "========================\n",
      "Decision Tree\n",
      "0.839102564103\n",
      "Accuracy: 0.84 (+/- 0.27)\n"
     ]
    }
   ],
   "source": [
    "from sklearn.model_selection import cross_val_score\n",
    "\n",
    "#data\n",
    "train_data='bigram_100p_train/comp_tlc_3cl.csv'\n",
    "train_data='merged_train_data/comp_2cl1.csv'\n",
    "\n",
    "#SVM\n",
    "print \"SVM\"\n",
    "clf = svm.SVC(C = 1.0)\n",
    "clf.fit(data,labels)\n",
    "scores = cross_val_score(clf, data, labels, cv=10)\n",
    "print np.mean(scores)\n",
    "print(\"Accuracy: %0.2f (+/- %0.2f)\" % (scores.mean(), scores.std() * 2))\n",
    "\n",
    "print '========================'\n",
    "#decision tree\n",
    "print \"Decision Tree\"\n",
    "clf = tree.DecisionTreeClassifier()\n",
    "clf = clf.fit(data, labels)\n",
    "\n",
    "scores = cross_val_score(clf, data, labels, cv=10)\n",
    "print np.mean(scores)\n",
    "print(\"Accuracy: %0.2f (+/- %0.2f)\" % (scores.mean(), scores.std() * 2))\n"
   ]
  },
  {
   "cell_type": "markdown",
   "metadata": {},
   "source": [
    "## function code"
   ]
  },
  {
   "cell_type": "code",
   "execution_count": 112,
   "metadata": {
    "collapsed": true
   },
   "outputs": [],
   "source": [
    "def ML_complexity(train_data):\n",
    "    \n",
    "    data,labels=get_data_labels(train_data)\n",
    "    print \"SVM\"\n",
    "    clf = svm.SVC(C = 1.0)\n",
    "    clf.fit(data,labels)\n",
    "    scores = cross_val_score(clf, data, labels, cv=10)\n",
    "    print np.mean(scores)\n",
    "    print(\"Accuracy: %0.2f (+/- %0.2f)\" % (scores.mean(), scores.std() * 2))\n",
    "\n",
    "    print '========================'\n",
    "    #decision tree\n",
    "    print \"Decision Tree\"\n",
    "    clf = tree.DecisionTreeClassifier()\n",
    "    clf = clf.fit(data, labels)\n",
    "\n",
    "    scores = cross_val_score(clf, data, labels, cv=10)\n",
    "    print np.mean(scores)\n",
    "    print(\"Accuracy: %0.2f (+/- %0.2f)\" % (scores.mean(), scores.std() * 2))\n"
   ]
  },
  {
   "cell_type": "code",
   "execution_count": null,
   "metadata": {
    "collapsed": true
   },
   "outputs": [],
   "source": []
  },
  {
   "cell_type": "code",
   "execution_count": null,
   "metadata": {
    "collapsed": true
   },
   "outputs": [],
   "source": []
  },
  {
   "cell_type": "code",
   "execution_count": 113,
   "metadata": {
    "collapsed": true
   },
   "outputs": [],
   "source": [
    "from os import listdir\n",
    "def run_ML_comp(path):\n",
    "    \"\"\"run the classification experiments on different data sets using different features\"\"\"\n",
    "    onlyfiles = [ f for f in listdir(path) if f.endswith(\".csv\")]\n",
    "    #print onlyfiles\n",
    "    for filename in onlyfiles:\n",
    "        print '++++++++++++++++++++++++++++++++++++++'\n",
    "        print path+filename\n",
    "        ML_complexity(path+filename)"
   ]
  },
  {
   "cell_type": "code",
   "execution_count": null,
   "metadata": {
    "collapsed": true
   },
   "outputs": [],
   "source": []
  },
  {
   "cell_type": "code",
   "execution_count": 126,
   "metadata": {
    "collapsed": false
   },
   "outputs": [
    {
     "name": "stdout",
     "output_type": "stream",
     "text": [
      "++++++++++++++++++++++++++++++++++++++\n",
      "merged_train_data/comp_2cl1.csv\n",
      "SVM\n",
      "0.761538461538\n",
      "Accuracy: 0.76 (+/- 0.31)\n",
      "========================\n",
      "Decision Tree\n",
      "0.717628205128\n",
      "Accuracy: 0.72 (+/- 0.19)\n",
      "++++++++++++++++++++++++++++++++++++++\n",
      "merged_train_data/comp_2cl2.csv\n",
      "SVM\n",
      "0.745\n",
      "Accuracy: 0.74 (+/- 0.02)\n",
      "========================\n",
      "Decision Tree\n",
      "0.587083333333\n",
      "Accuracy: 0.59 (+/- 0.35)\n",
      "++++++++++++++++++++++++++++++++++++++\n",
      "merged_train_data/comp_3cl.csv\n",
      "SVM\n",
      "0.688782051282\n",
      "Accuracy: 0.69 (+/- 0.25)\n",
      "========================\n",
      "Decision Tree\n",
      "0.543269230769\n",
      "Accuracy: 0.54 (+/- 0.24)\n",
      "++++++++++++++++++++++++++++++++++++++\n",
      "merged_train_data/comp_tlc_2cl1.csv\n",
      "SVM\n",
      "0.764743589744\n",
      "Accuracy: 0.76 (+/- 0.19)\n",
      "========================\n",
      "Decision Tree\n",
      "0.705128205128\n",
      "Accuracy: 0.71 (+/- 0.13)\n",
      "++++++++++++++++++++++++++++++++++++++\n",
      "merged_train_data/comp_tlc_2cl2.csv\n",
      "SVM\n",
      "0.745\n",
      "Accuracy: 0.74 (+/- 0.02)\n",
      "========================\n",
      "Decision Tree\n",
      "0.662083333333\n",
      "Accuracy: 0.66 (+/- 0.27)\n",
      "++++++++++++++++++++++++++++++++++++++\n",
      "merged_train_data/comp_tlc_3cl.csv\n",
      "SVM\n",
      "0.697115384615\n",
      "Accuracy: 0.70 (+/- 0.14)\n",
      "========================\n",
      "Decision Tree\n",
      "0.589743589744\n",
      "Accuracy: 0.59 (+/- 0.11)\n"
     ]
    }
   ],
   "source": [
    "run_ML_comp('merged_train_data/')"
   ]
  },
  {
   "cell_type": "code",
   "execution_count": 160,
   "metadata": {
    "collapsed": false
   },
   "outputs": [
    {
     "data": {
      "text/plain": [
       "DecisionTreeClassifier(class_weight=None, criterion='gini', max_depth=None,\n",
       "            max_features=None, max_leaf_nodes=None,\n",
       "            min_impurity_split=1e-07, min_samples_leaf=1,\n",
       "            min_samples_split=2, min_weight_fraction_leaf=0.0,\n",
       "            presort=False, random_state=None, splitter='best')"
      ]
     },
     "execution_count": 160,
     "metadata": {},
     "output_type": "execute_result"
    }
   ],
   "source": [
    "clf"
   ]
  },
  {
   "cell_type": "code",
   "execution_count": 183,
   "metadata": {
    "collapsed": false
   },
   "outputs": [],
   "source": [
    "import pickle\n",
    "output = open('data.pkl', 'wb')\n",
    "pickle.dump(clf,output)\n",
    "mod=pickle.load(open('data.pkl','r'))"
   ]
  },
  {
   "cell_type": "code",
   "execution_count": 184,
   "metadata": {
    "collapsed": false
   },
   "outputs": [
    {
     "data": {
      "text/plain": [
       "DecisionTreeClassifier(class_weight=None, criterion='gini', max_depth=None,\n",
       "            max_features=None, max_leaf_nodes=None,\n",
       "            min_impurity_split=1e-07, min_samples_leaf=1,\n",
       "            min_samples_split=2, min_weight_fraction_leaf=0.0,\n",
       "            presort=False, random_state=None, splitter='best')"
      ]
     },
     "execution_count": 184,
     "metadata": {},
     "output_type": "execute_result"
    }
   ],
   "source": [
    "mod"
   ]
  },
  {
   "cell_type": "code",
   "execution_count": null,
   "metadata": {
    "collapsed": true
   },
   "outputs": [],
   "source": []
  },
  {
   "cell_type": "code",
   "execution_count": 178,
   "metadata": {
    "collapsed": false
   },
   "outputs": [],
   "source": [
    "s=pickle.dumps(clf)\n",
    "f=open('model.txt','w')\n",
    "f.write(s)\n",
    "d=open('model.txt','r').read()\n",
    "model=pickle.loads(d)"
   ]
  },
  {
   "cell_type": "code",
   "execution_count": 181,
   "metadata": {
    "collapsed": false
   },
   "outputs": [
    {
     "data": {
      "text/plain": [
       "DecisionTreeClassifier(class_weight=None, criterion='gini', max_depth=None,\n",
       "            max_features=None, max_leaf_nodes=None,\n",
       "            min_impurity_split=1e-07, min_samples_leaf=1,\n",
       "            min_samples_split=2, min_weight_fraction_leaf=0.0,\n",
       "            presort=False, random_state=None, splitter='best')"
      ]
     },
     "execution_count": 181,
     "metadata": {},
     "output_type": "execute_result"
    }
   ],
   "source": [
    "model"
   ]
  },
  {
   "cell_type": "code",
   "execution_count": 182,
   "metadata": {
    "collapsed": false
   },
   "outputs": [
    {
     "data": {
      "text/plain": [
       "DecisionTreeClassifier(class_weight=None, criterion='gini', max_depth=None,\n",
       "            max_features=None, max_leaf_nodes=None,\n",
       "            min_impurity_split=1e-07, min_samples_leaf=1,\n",
       "            min_samples_split=2, min_weight_fraction_leaf=0.0,\n",
       "            presort=False, random_state=None, splitter='best')"
      ]
     },
     "execution_count": 182,
     "metadata": {},
     "output_type": "execute_result"
    }
   ],
   "source": [
    "clf"
   ]
  },
  {
   "cell_type": "code",
   "execution_count": null,
   "metadata": {
    "collapsed": true
   },
   "outputs": [],
   "source": []
  },
  {
   "cell_type": "code",
   "execution_count": null,
   "metadata": {
    "collapsed": true
   },
   "outputs": [],
   "source": []
  },
  {
   "cell_type": "code",
   "execution_count": null,
   "metadata": {
    "collapsed": true
   },
   "outputs": [],
   "source": []
  },
  {
   "cell_type": "code",
   "execution_count": null,
   "metadata": {
    "collapsed": true
   },
   "outputs": [],
   "source": []
  },
  {
   "cell_type": "code",
   "execution_count": null,
   "metadata": {
    "collapsed": true
   },
   "outputs": [],
   "source": []
  },
  {
   "cell_type": "markdown",
   "metadata": {},
   "source": [
    "# older scramble"
   ]
  },
  {
   "cell_type": "code",
   "execution_count": null,
   "metadata": {
    "collapsed": true
   },
   "outputs": [],
   "source": []
  },
  {
   "cell_type": "code",
   "execution_count": 25,
   "metadata": {
    "collapsed": false
   },
   "outputs": [],
   "source": [
    "f=open('bigram_100p_train/comp_tlc_3cl.csv','r').read().split('\\n')\n",
    "data=np.array([[float(l.split(',')[0]),float(l.split(',')[1])] for l in f[1:-1]])\n",
    "labels=[l.split(',')[-1] for l in f[1:-1]]"
   ]
  },
  {
   "cell_type": "code",
   "execution_count": 31,
   "metadata": {
    "collapsed": false
   },
   "outputs": [
    {
     "data": {
      "text/plain": [
       "SVC(C=1.0, cache_size=200, class_weight=None, coef0=0.0,\n",
       "  decision_function_shape=None, degree=3, gamma='auto', kernel='rbf',\n",
       "  max_iter=-1, probability=False, random_state=None, shrinking=True,\n",
       "  tol=0.001, verbose=False)"
      ]
     },
     "execution_count": 31,
     "metadata": {},
     "output_type": "execute_result"
    }
   ],
   "source": [
    "clf = svm.SVC(C = 1.0)\n",
    "clf.fit(data,labels)"
   ]
  },
  {
   "cell_type": "code",
   "execution_count": null,
   "metadata": {
    "collapsed": true
   },
   "outputs": [],
   "source": []
  },
  {
   "cell_type": "code",
   "execution_count": 32,
   "metadata": {
    "collapsed": true
   },
   "outputs": [],
   "source": [
    "from sklearn.metrics import accuracy_score\n",
    "y_pred=clf.predict(data)"
   ]
  },
  {
   "cell_type": "code",
   "execution_count": 33,
   "metadata": {
    "collapsed": false
   },
   "outputs": [
    {
     "data": {
      "text/plain": [
       "array(['SP', 'SP', 'SP', 'SP', 'SP', 'SP', 'SP', 'SP', 'SP', 'SP', 'SP',\n",
       "       'SP', 'SP', 'SP', 'SP', 'SP', 'SP', 'SP', 'SP', 'SP', 'SP', 'SP',\n",
       "       'SP', 'SP', 'SP', 'SP', 'SP', 'SP', 'SP', 'SP', 'SP', 'SP', 'SP',\n",
       "       'SP', 'SP', 'SP', 'SP', 'SP', 'SP', 'SP', 'SP', 'SP', 'SP', 'SP',\n",
       "       'SP', 'AMB', 'AMB', 'SP', 'SP', 'AMB', 'GD', 'SP', 'AMB', 'SP',\n",
       "       'SP', 'GD', 'SP', 'GD', 'SP', 'GD', 'GD', 'GD', 'GD', 'GD', 'GD',\n",
       "       'AMB', 'GD', 'GD', 'GD', 'GD', 'AMB', 'GD', 'GD', 'GD', 'GD', 'GD',\n",
       "       'GD', 'GD', 'GD', 'GD', 'GD', 'GD', 'GD', 'GD', 'GD', 'GD', 'GD',\n",
       "       'GD', 'GD', 'GD', 'GD', 'GD', 'AMB', 'GD', 'GD', 'GD', 'GD', 'GD',\n",
       "       'GD', 'GD', 'GD', 'GD'], \n",
       "      dtype='|S3')"
      ]
     },
     "execution_count": 33,
     "metadata": {},
     "output_type": "execute_result"
    }
   ],
   "source": [
    "y_pred"
   ]
  },
  {
   "cell_type": "code",
   "execution_count": 34,
   "metadata": {
    "collapsed": false
   },
   "outputs": [
    {
     "data": {
      "text/plain": [
       "0.82352941176470584"
      ]
     },
     "execution_count": 34,
     "metadata": {},
     "output_type": "execute_result"
    }
   ],
   "source": [
    "accuracy_score(labels,y_pred)"
   ]
  },
  {
   "cell_type": "code",
   "execution_count": null,
   "metadata": {
    "collapsed": true
   },
   "outputs": [],
   "source": []
  },
  {
   "cell_type": "markdown",
   "metadata": {},
   "source": [
    "#### trying Decision tree on the same data set"
   ]
  },
  {
   "cell_type": "code",
   "execution_count": null,
   "metadata": {
    "collapsed": true
   },
   "outputs": [],
   "source": []
  },
  {
   "cell_type": "code",
   "execution_count": 35,
   "metadata": {
    "collapsed": true
   },
   "outputs": [],
   "source": [
    "#motivating example\n",
    "from sklearn import tree\n",
    "X = [[0, 0], [1, 1]]\n",
    "Y = [0, 1]\n",
    "clf = tree.DecisionTreeClassifier()\n",
    "clf = clf.fit(X, Y)"
   ]
  },
  {
   "cell_type": "code",
   "execution_count": 38,
   "metadata": {
    "collapsed": false
   },
   "outputs": [
    {
     "data": {
      "text/plain": [
       "1.0"
      ]
     },
     "execution_count": 38,
     "metadata": {},
     "output_type": "execute_result"
    }
   ],
   "source": [
    "#real thing\n",
    "clf = tree.DecisionTreeClassifier()\n",
    "clf = clf.fit(data, labels)\n",
    "y_pred=clf.predict(data)\n",
    "accuracy_score(labels,y_pred)"
   ]
  },
  {
   "cell_type": "code",
   "execution_count": 39,
   "metadata": {
    "collapsed": false
   },
   "outputs": [
    {
     "data": {
      "text/plain": [
       "array(['SP', 'SP', 'SP', 'SP', 'SP', 'SP', 'SP', 'SP', 'SP', 'SP', 'SP',\n",
       "       'SP', 'SP', 'SP', 'SP', 'SP', 'SP', 'SP', 'SP', 'SP', 'SP', 'SP',\n",
       "       'SP', 'SP', 'SP', 'SP', 'SP', 'SP', 'SP', 'SP', 'SP', 'SP', 'SP',\n",
       "       'SP', 'SP', 'SP', 'SP', 'SP', 'SP', 'SP', 'SP', 'SP', 'SP', 'AMB',\n",
       "       'AMB', 'AMB', 'AMB', 'AMB', 'AMB', 'AMB', 'AMB', 'AMB', 'AMB',\n",
       "       'AMB', 'AMB', 'AMB', 'AMB', 'AMB', 'AMB', 'AMB', 'AMB', 'AMB', 'GD',\n",
       "       'GD', 'GD', 'GD', 'GD', 'GD', 'GD', 'GD', 'GD', 'GD', 'GD', 'GD',\n",
       "       'GD', 'GD', 'GD', 'GD', 'GD', 'GD', 'GD', 'GD', 'GD', 'GD', 'GD',\n",
       "       'GD', 'GD', 'GD', 'GD', 'GD', 'GD', 'GD', 'GD', 'GD', 'GD', 'GD',\n",
       "       'GD', 'GD', 'GD', 'GD', 'GD', 'GD'], \n",
       "      dtype='|S3')"
      ]
     },
     "execution_count": 39,
     "metadata": {},
     "output_type": "execute_result"
    }
   ],
   "source": [
    "y_pred"
   ]
  },
  {
   "cell_type": "markdown",
   "metadata": {},
   "source": [
    "## next:\n",
    " 1. cross validation\n",
    " 2. dev-set/test-set\n",
    " 3. using the pooled data set"
   ]
  },
  {
   "cell_type": "code",
   "execution_count": null,
   "metadata": {
    "collapsed": true
   },
   "outputs": [],
   "source": []
  },
  {
   "cell_type": "code",
   "execution_count": 115,
   "metadata": {
    "collapsed": true
   },
   "outputs": [],
   "source": [
    "def compute_complexity_MK(ts):\n",
    "    \"\"\"compute complexity of a single TS\"\"\"\n",
    "    #right now I don't need to normalized by length, since all subsequences considered from the same dataset should have the\n",
    "    #same len, but keep in mind in the future\n",
    "    return np.sqrt(np.sum((ts[i]-ts[i+1])**2 for i in range(len(ts)-1)))"
   ]
  },
  {
   "cell_type": "code",
   "execution_count": null,
   "metadata": {
    "collapsed": true
   },
   "outputs": [],
   "source": []
  },
  {
   "cell_type": "code",
   "execution_count": 120,
   "metadata": {
    "collapsed": false
   },
   "outputs": [
    {
     "name": "stdout",
     "output_type": "stream",
     "text": [
      "2.64575131106\n",
      "2.64575131106\n",
      "5.29150262213\n",
      "1.15470053838\n"
     ]
    }
   ],
   "source": [
    "a=[1,2,1,2,1,2,1,2]\n",
    "b=[10,9,8,7,6,5,4,3]\n",
    "print compute_complexity_MK(a)\n",
    "print compute_complexity_MK(b)\n",
    "a=np.array(a)\n",
    "b=np.array(b)\n",
    "an=(a-np.mean(a))/np.std(a)\n",
    "bn=(b-np.mean(b))/np.std(b)\n",
    "print compute_complexity_MK(an)\n",
    "print compute_complexity_MK(bn)"
   ]
  },
  {
   "cell_type": "code",
   "execution_count": null,
   "metadata": {
    "collapsed": true
   },
   "outputs": [],
   "source": []
  },
  {
   "cell_type": "markdown",
   "metadata": {},
   "source": [
    "# generate a plot for the writing"
   ]
  },
  {
   "cell_type": "code",
   "execution_count": null,
   "metadata": {
    "collapsed": true
   },
   "outputs": [],
   "source": []
  },
  {
   "cell_type": "code",
   "execution_count": 122,
   "metadata": {
    "collapsed": false
   },
   "outputs": [
    {
     "data": {
      "text/plain": [
       "<matplotlib.text.Text at 0x9daff60>"
      ]
     },
     "execution_count": 122,
     "metadata": {},
     "output_type": "execute_result"
    },
    {
     "data": {
      "image/png": "[encoded data removed]",
      "text/plain": [
       "<matplotlib.figure.Figure at 0x9d91e48>"
      ]
     },
     "metadata": {},
     "output_type": "display_data"
    }
   ],
   "source": [
    "%matplotlib inline\n",
    "plt.plot(a,label='a')\n",
    "plt.plot(b,label='b')\n",
    "plt.legend()\n",
    "plt.title(\"a and b have the same BWK complexity of 2.646\")"
   ]
  },
  {
   "cell_type": "code",
   "execution_count": 123,
   "metadata": {
    "collapsed": false
   },
   "outputs": [
    {
     "data": {
      "text/plain": [
       "<matplotlib.text.Text at 0xb2400f0>"
      ]
     },
     "execution_count": 123,
     "metadata": {},
     "output_type": "execute_result"
    },
    {
     "data": {
      "image/png": "[encoded data removed]",
      "text/plain": [
       "<matplotlib.figure.Figure at 0x9bc8240>"
      ]
     },
     "metadata": {},
     "output_type": "display_data"
    }
   ],
   "source": [
    "plt.plot(an,label='z-normalized a')\n",
    "plt.plot(bn,label='z-normalized b')\n",
    "plt.legend()\n",
    "plt.title(\"z-normalized BWK(norm_a)=5.292,BWK(norm_b)=1.155 \")"
   ]
  },
  {
   "cell_type": "code",
   "execution_count": null,
   "metadata": {
    "collapsed": true
   },
   "outputs": [],
   "source": []
  },
  {
   "cell_type": "code",
   "execution_count": 127,
   "metadata": {
    "collapsed": true
   },
   "outputs": [],
   "source": [
    "import re\n",
    "from collections import defaultdict\n",
    "splitter='++++++++++++++++++++++++++++++++++++++\\n'\n",
    "f=open('train_data_BWK/classification_log_BWK.txt','r').read().split(splitter)\n",
    "total_dict=defaultdict(list)"
   ]
  },
  {
   "cell_type": "code",
   "execution_count": 130,
   "metadata": {
    "collapsed": false
   },
   "outputs": [],
   "source": [
    "total_dict['merged'].append({'3cl':'0.48/0.48'})"
   ]
  },
  {
   "cell_type": "code",
   "execution_count": 132,
   "metadata": {
    "collapsed": false
   },
   "outputs": [
    {
     "data": {
      "text/plain": [
       "[{'3cl': '0.48/0.48'}]"
      ]
     },
     "execution_count": 132,
     "metadata": {},
     "output_type": "execute_result"
    }
   ],
   "source": [
    "total_dict['merged']"
   ]
  },
  {
   "cell_type": "code",
   "execution_count": 137,
   "metadata": {
    "collapsed": false
   },
   "outputs": [
    {
     "name": "stdout",
     "output_type": "stream",
     "text": [
      "2C1 & 2C2 & 3C & 2C1 & 2C2 & 3C & 2C1 & 2C2 & 3C & 2C1 & 2C2 & 3C & 2C1 & 2C2 & 3C & \\\\\n"
     ]
    }
   ],
   "source": [
    "print '2C1 & 2C2 & 3C & ' *5 + '\\\\\\\\'"
   ]
  },
  {
   "cell_type": "code",
   "execution_count": 140,
   "metadata": {
    "collapsed": true
   },
   "outputs": [],
   "source": [
    "a='2C1 & 2C2 & 3C & ' *5 \n",
    "header=a[:-2]+ '\\\\\\\\'"
   ]
  },
  {
   "cell_type": "code",
   "execution_count": 141,
   "metadata": {
    "collapsed": false
   },
   "outputs": [
    {
     "data": {
      "text/plain": [
       "'2C1 & 2C2 & 3C & 2C1 & 2C2 & 3C & 2C1 & 2C2 & 3C & 2C1 & 2C2 & 3C & 2C1 & 2C2 & 3C \\\\\\\\'"
      ]
     },
     "execution_count": 141,
     "metadata": {},
     "output_type": "execute_result"
    }
   ],
   "source": [
    "header"
   ]
  },
  {
   "cell_type": "code",
   "execution_count": null,
   "metadata": {
    "collapsed": true
   },
   "outputs": [],
   "source": []
  },
  {
   "cell_type": "markdown",
   "metadata": {},
   "source": [
    "# develop rank refinement code"
   ]
  },
  {
   "cell_type": "code",
   "execution_count": 147,
   "metadata": {
    "collapsed": true
   },
   "outputs": [],
   "source": [
    "from ngram_motifs_modules import *\n",
    "class NgramData:\n",
    "    def __init__(self,mk_path,N,comp_len,par,X,file_prefix,data_file,csv_file,gt_file,total_num_motifs,num_run):\n",
    "        self.mk_path=mk_path\n",
    "        self.N=N\n",
    "        self.comp_len=comp_len\n",
    "        self.par=par\n",
    "        self.X=X\n",
    "        self.file_prefix=file_prefix\n",
    "        self.data_file=data_file\n",
    "        self.csv_file=csv_file\n",
    "        self.gt_file=gt_file\n",
    "        self.total_num_motifs=total_num_motifs\n",
    "        self.num_run=num_run"
   ]
  },
  {
   "cell_type": "code",
   "execution_count": null,
   "metadata": {
    "collapsed": true
   },
   "outputs": [],
   "source": []
  },
  {
   "cell_type": "code",
   "execution_count": 145,
   "metadata": {
    "collapsed": true
   },
   "outputs": [],
   "source": [
    "data=NgramData('mk_txt/',2,200,'56',2,'downsample_syl_2_meta_200_MK','mk_txt/downsample_syl_2_meta_200_MK.txt','csv_version/downsample_syl_2_meta_200.csv',\"bigram200p_gtruth.p\",200,1)"
   ]
  },
  {
   "cell_type": "code",
   "execution_count": 151,
   "metadata": {
    "collapsed": true
   },
   "outputs": [],
   "source": [
    "data=NgramData('mk_txt/',3,300,'2115404940',2,'downsample_syl_3_meta_300_MK','mk_txt/downsample_syl_3_meta_300_MK.txt','csv_version/downsample_syl_3_meta_300.csv',\"trigram300p_gtruth.p\",38,1)"
   ]
  },
  {
   "cell_type": "code",
   "execution_count": null,
   "metadata": {
    "collapsed": true
   },
   "outputs": [],
   "source": []
  },
  {
   "cell_type": "code",
   "execution_count": 158,
   "metadata": {
    "collapsed": true
   },
   "outputs": [],
   "source": [
    "def get_distinct_motifs(par,X,path,file_prefix,comp_len,k=200):\n",
    "    \"\"\"get number of distinct motif cluster files\"\"\"\n",
    "    for i in range(1,k):\n",
    "        \n",
    "        si_this=str(i)\n",
    "        si_next=str(i+1)\n",
    "        this_file=path+file_prefix+'_txt_%s_%s_%s.0_%s.txt'%(par,comp_len,X,si_this)\n",
    "        next_file=path+file_prefix+'_txt_%s_%s_%s.0_%s.txt'%(par,comp_len,X,si_next)\n",
    "        #print this_file\n",
    "        this_inds=inspect_motif(this_file)\n",
    "        next_inds=inspect_motif(next_file)\n",
    "        if this_inds==next_inds:\n",
    "            return i\n",
    "    return -1"
   ]
  },
  {
   "cell_type": "code",
   "execution_count": null,
   "metadata": {
    "collapsed": true
   },
   "outputs": [],
   "source": []
  },
  {
   "cell_type": "code",
   "execution_count": null,
   "metadata": {
    "collapsed": true
   },
   "outputs": [],
   "source": []
  },
  {
   "cell_type": "code",
   "execution_count": null,
   "metadata": {
    "collapsed": true
   },
   "outputs": [],
   "source": []
  },
  {
   "cell_type": "code",
   "execution_count": null,
   "metadata": {
    "collapsed": true
   },
   "outputs": [],
   "source": []
  },
  {
   "cell_type": "code",
   "execution_count": 159,
   "metadata": {
    "collapsed": false
   },
   "outputs": [
    {
     "data": {
      "text/plain": [
       "40"
      ]
     },
     "execution_count": 159,
     "metadata": {},
     "output_type": "execute_result"
    }
   ],
   "source": [
    "get_distinct_motifs(data.par,data.X,data.mk_path,data.file_prefix,data.comp_len)"
   ]
  },
  {
   "cell_type": "code",
   "execution_count": null,
   "metadata": {
    "collapsed": true
   },
   "outputs": [],
   "source": []
  },
  {
   "cell_type": "code",
   "execution_count": null,
   "metadata": {
    "collapsed": true
   },
   "outputs": [],
   "source": []
  },
  {
   "cell_type": "code",
   "execution_count": null,
   "metadata": {
    "collapsed": true
   },
   "outputs": [],
   "source": []
  },
  {
   "cell_type": "code",
   "execution_count": null,
   "metadata": {
    "collapsed": true
   },
   "outputs": [],
   "source": []
  },
  {
   "cell_type": "code",
   "execution_count": null,
   "metadata": {
    "collapsed": true
   },
   "outputs": [],
   "source": []
  },
  {
   "cell_type": "code",
   "execution_count": null,
   "metadata": {
    "collapsed": true
   },
   "outputs": [],
   "source": []
  },
  {
   "cell_type": "code",
   "execution_count": null,
   "metadata": {
    "collapsed": true
   },
   "outputs": [],
   "source": []
  },
  {
   "cell_type": "code",
   "execution_count": null,
   "metadata": {
    "collapsed": true
   },
   "outputs": [],
   "source": []
  },
  {
   "cell_type": "code",
   "execution_count": null,
   "metadata": {
    "collapsed": true
   },
   "outputs": [],
   "source": []
  },
  {
   "cell_type": "code",
   "execution_count": null,
   "metadata": {
    "collapsed": true
   },
   "outputs": [],
   "source": []
  },
  {
   "cell_type": "code",
   "execution_count": null,
   "metadata": {
    "collapsed": true
   },
   "outputs": [],
   "source": []
  },
  {
   "cell_type": "code",
   "execution_count": null,
   "metadata": {
    "collapsed": true
   },
   "outputs": [],
   "source": []
  },
  {
   "cell_type": "code",
   "execution_count": null,
   "metadata": {
    "collapsed": true
   },
   "outputs": [],
   "source": []
  },
  {
   "cell_type": "code",
   "execution_count": null,
   "metadata": {
    "collapsed": true
   },
   "outputs": [],
   "source": []
  },
  {
   "cell_type": "code",
   "execution_count": null,
   "metadata": {
    "collapsed": true
   },
   "outputs": [],
   "source": []
  },
  {
   "cell_type": "code",
   "execution_count": null,
   "metadata": {
    "collapsed": true
   },
   "outputs": [],
   "source": []
  }
 ],
 "metadata": {
  "kernelspec": {
   "display_name": "Python 2",
   "language": "python",
   "name": "python2"
  },
  "language_info": {
   "codemirror_mode": {
    "name": "ipython",
    "version": 2
   },
   "file_extension": ".py",
   "mimetype": "text/x-python",
   "name": "python",
   "nbconvert_exporter": "python",
   "pygments_lexer": "ipython2",
   "version": "2.7.13"
  }
 },
 "nbformat": 4,
 "nbformat_minor": 2
}
