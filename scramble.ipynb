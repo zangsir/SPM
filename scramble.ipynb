{
 "cells": [
  {
   "cell_type": "markdown",
   "metadata": {},
   "source": [
    "# xrenner"
   ]
  },
  {
   "cell_type": "code",
   "execution_count": null,
   "metadata": {
    "collapsed": true
   },
   "outputs": [],
   "source": []
  },
  {
   "cell_type": "code",
   "execution_count": 3,
   "metadata": {
    "collapsed": false
   },
   "outputs": [],
   "source": [
    "from glob import glob\n",
    "file=\"xrenner/example_in.conll10\"\n",
    "data = glob(file)"
   ]
  },
  {
   "cell_type": "code",
   "execution_count": 4,
   "metadata": {
    "collapsed": false
   },
   "outputs": [
    {
     "data": {
      "text/plain": [
       "['xrenner/example_in.conll10']"
      ]
     },
     "execution_count": 4,
     "metadata": {},
     "output_type": "execute_result"
    }
   ],
   "source": [
    "data"
   ]
  },
  {
   "cell_type": "code",
   "execution_count": 4,
   "metadata": {
    "collapsed": false
   },
   "outputs": [
    {
     "name": "stdout",
     "output_type": "stream",
     "text": [
      "0\n",
      "1\n",
      "=======\n",
      "1\n",
      "1\n",
      "=======\n",
      "1\n",
      "2\n",
      "=======\n",
      "2\n",
      "3\n",
      "=======\n",
      "3\n",
      "5\n",
      "=======\n",
      "5\n",
      "8\n",
      "=======\n",
      "8\n",
      "13\n",
      "=======\n",
      "13\n",
      "21\n",
      "=======\n",
      "21\n",
      "34\n",
      "=======\n",
      "34\n",
      "55\n",
      "=======\n"
     ]
    }
   ],
   "source": [
    "def fibonacci(n, first=0, second=1):\n",
    "    while n != 0:\n",
    "        print(first) \n",
    "        print (second)\n",
    "        print (\"=======\")\n",
    "        # side-effect\n",
    "        n, first, second = n - 1, second, first + second # assignment\n",
    "fibonacci(10)"
   ]
  },
  {
   "cell_type": "code",
   "execution_count": 6,
   "metadata": {
    "collapsed": false
   },
   "outputs": [
    {
     "name": "stdout",
     "output_type": "stream",
     "text": [
      "0\n",
      "1\n",
      "1\n",
      "2\n",
      "3\n",
      "5\n",
      "8\n",
      "13\n",
      "21\n",
      "34\n",
      "\n"
     ]
    }
   ],
   "source": [
    "fibonacci = (lambda n, first=0, second=1:\n",
    "    \"\" if n == 0 else\n",
    "    str(first) + \"\\n\" + fibonacci(n - 1, second, first + second))\n",
    "print(fibonacci(10))"
   ]
  },
  {
   "cell_type": "markdown",
   "metadata": {
    "collapsed": true
   },
   "source": [
    "# coptic tool"
   ]
  },
  {
   "cell_type": "code",
   "execution_count": null,
   "metadata": {
    "collapsed": true
   },
   "outputs": [],
   "source": []
  },
  {
   "cell_type": "code",
   "execution_count": 23,
   "metadata": {
    "collapsed": true
   },
   "outputs": [],
   "source": [
    "def make_options(**kwargs):\n",
    "    if \"file\" in kwargs:\n",
    "        names = open(kwargs[\"file\"],'r').read().replace(\"\\r\",\"\").split(\"\\n\")\n",
    "        #print len(names)\n",
    "        names = list(name[:name.find(\"\\t\")] for name in names)\n",
    "    elif \"names\" in kwargs:\n",
    "        names = kwargs[names]\n",
    "    selected = kwargs[\"selected\"] if \"selected\" in kwargs else None\n",
    "    options=\"\"\n",
    "    for name in names:\n",
    "        if name!='':\n",
    "            options+='<option value=%s>\\n' %name\n",
    "    return options\n",
    "    # SOME CODE TO SERIALIZE TO <option ...>\n",
    "    # If the name is 'selected', add selected=\"selected\"\n",
    "    # return string of <options>\\n"
   ]
  },
  {
   "cell_type": "code",
   "execution_count": null,
   "metadata": {
    "collapsed": true
   },
   "outputs": [],
   "source": []
  },
  {
   "cell_type": "code",
   "execution_count": 19,
   "metadata": {
    "collapsed": false
   },
   "outputs": [
    {
     "name": "stdout",
     "output_type": "stream",
     "text": [
      "40\n",
      "<option value=corpus>\n",
      "<option value=Coptic_edition>\n",
      "<option value=Greek_source>\n",
      "<option value=title>\n",
      "<option value=msltem_title>\n",
      "<option value=author>\n",
      "<option value=language>\n",
      "<option value=annotation>\n",
      "<option value=project>\n",
      "<option value=translation>\n",
      "<option value=msName>\n",
      "<option value=pages_from>\n",
      "<option value=pages_to>\n",
      "<option value=msContents_title@type>\n",
      "<option value=msContents_title@n>\n",
      "<option value=repository>\n",
      "<option value=collection>\n",
      "<option value=idno>\n",
      "<option value=version@n>\n",
      "<option value=version@date>\n",
      "<option value=source_info>\n",
      "<option value=license>\n",
      "<option value=document_cts_urn>\n",
      "<option value=Trismegistos>\n",
      "<option value=objectType>\n",
      "<option value=country>\n",
      "<option value=placeName>\n",
      "<option value=origPlace>\n",
      "<option value=origDate>\n",
      "<option value=origDate_precision>\n",
      "<option value=origDate_notBefore>\n",
      "<option value=origDate_notAfter>\n",
      "<option value=source>\n",
      "<option value=note>\n",
      "<option value=witness>\n",
      "<option value=redundant>\n",
      "<option value=previous>\n",
      "<option value=next>\n",
      "<option value=endnote>\n",
      "\n"
     ]
    }
   ],
   "source": [
    "file='metadata_fields.tab'\n",
    "#or names= a list of valid names\n",
    "opt=make_options(file=file)\n",
    "print opt"
   ]
  },
  {
   "cell_type": "code",
   "execution_count": null,
   "metadata": {
    "collapsed": true
   },
   "outputs": [],
   "source": []
  },
  {
   "cell_type": "code",
   "execution_count": null,
   "metadata": {
    "collapsed": true
   },
   "outputs": [],
   "source": []
  },
  {
   "cell_type": "code",
   "execution_count": 9,
   "metadata": {
    "collapsed": false
   },
   "outputs": [],
   "source": [
    "names = open(file,'r').read().replace(\"\\r\",\"\").split(\"\\n\")\n",
    "t = list(name[:name.find(\"\\t\")] for name in names)"
   ]
  },
  {
   "cell_type": "code",
   "execution_count": 10,
   "metadata": {
    "collapsed": false
   },
   "outputs": [
    {
     "data": {
      "text/plain": [
       "40"
      ]
     },
     "execution_count": 10,
     "metadata": {},
     "output_type": "execute_result"
    }
   ],
   "source": [
    "len(names)"
   ]
  },
  {
   "cell_type": "code",
   "execution_count": 12,
   "metadata": {
    "collapsed": false
   },
   "outputs": [
    {
     "data": {
      "text/plain": [
       "40"
      ]
     },
     "execution_count": 12,
     "metadata": {},
     "output_type": "execute_result"
    }
   ],
   "source": [
    "len(t)"
   ]
  },
  {
   "cell_type": "code",
   "execution_count": 13,
   "metadata": {
    "collapsed": false
   },
   "outputs": [
    {
     "data": {
      "text/plain": [
       "['corpus',\n",
       " 'Coptic_edition',\n",
       " 'Greek_source',\n",
       " 'title',\n",
       " 'msltem_title',\n",
       " 'author',\n",
       " 'language',\n",
       " 'annotation',\n",
       " 'project',\n",
       " 'translation',\n",
       " 'msName',\n",
       " 'pages_from',\n",
       " 'pages_to',\n",
       " 'msContents_title@type',\n",
       " 'msContents_title@n',\n",
       " 'repository',\n",
       " 'collection',\n",
       " 'idno',\n",
       " 'version@n',\n",
       " 'version@date',\n",
       " 'source_info',\n",
       " 'license',\n",
       " 'document_cts_urn',\n",
       " 'Trismegistos',\n",
       " 'objectType',\n",
       " 'country',\n",
       " 'placeName',\n",
       " 'origPlace',\n",
       " 'origDate',\n",
       " 'origDate_precision',\n",
       " 'origDate_notBefore',\n",
       " 'origDate_notAfter',\n",
       " 'source',\n",
       " 'note',\n",
       " 'witness',\n",
       " 'redundant',\n",
       " 'previous',\n",
       " 'next',\n",
       " 'endnote',\n",
       " '']"
      ]
     },
     "execution_count": 13,
     "metadata": {},
     "output_type": "execute_result"
    }
   ],
   "source": [
    "t"
   ]
  },
  {
   "cell_type": "code",
   "execution_count": null,
   "metadata": {
    "collapsed": true
   },
   "outputs": [],
   "source": []
  },
  {
   "cell_type": "code",
   "execution_count": null,
   "metadata": {
    "collapsed": true
   },
   "outputs": [],
   "source": []
  },
  {
   "cell_type": "code",
   "execution_count": null,
   "metadata": {
    "collapsed": true
   },
   "outputs": [],
   "source": []
  },
  {
   "cell_type": "code",
   "execution_count": null,
   "metadata": {
    "collapsed": true
   },
   "outputs": [],
   "source": []
  },
  {
   "cell_type": "code",
   "execution_count": 15,
   "metadata": {
    "collapsed": false
   },
   "outputs": [
    {
     "name": "stdout",
     "output_type": "stream",
     "text": [
      "40\n"
     ]
    }
   ],
   "source": []
  },
  {
   "cell_type": "code",
   "execution_count": 17,
   "metadata": {
    "collapsed": false
   },
   "outputs": [
    {
     "name": "stdout",
     "output_type": "stream",
     "text": [
      "<option value=corpus>\n",
      "<option value=Coptic_edition>\n",
      "<option value=Greek_source>\n",
      "<option value=title>\n",
      "<option value=msltem_title>\n",
      "<option value=author>\n",
      "<option value=language>\n",
      "<option value=annotation>\n",
      "<option value=project>\n",
      "<option value=translation>\n",
      "<option value=msName>\n",
      "<option value=pages_from>\n",
      "<option value=pages_to>\n",
      "<option value=msContents_title@type>\n",
      "<option value=msContents_title@n>\n",
      "<option value=repository>\n",
      "<option value=collection>\n",
      "<option value=idno>\n",
      "<option value=version@n>\n",
      "<option value=version@date>\n",
      "<option value=source_info>\n",
      "<option value=license>\n",
      "<option value=document_cts_urn>\n",
      "<option value=Trismegistos>\n",
      "<option value=objectType>\n",
      "<option value=country>\n",
      "<option value=placeName>\n",
      "<option value=origPlace>\n",
      "<option value=origDate>\n",
      "<option value=origDate_precision>\n",
      "<option value=origDate_notBefore>\n",
      "<option value=origDate_notAfter>\n",
      "<option value=source>\n",
      "<option value=note>\n",
      "<option value=witness>\n",
      "<option value=redundant>\n",
      "<option value=previous>\n",
      "<option value=next>\n",
      "<option value=endnote>\n",
      "<option value=>\n",
      "\n"
     ]
    }
   ],
   "source": [
    "print opt"
   ]
  },
  {
   "cell_type": "code",
   "execution_count": null,
   "metadata": {
    "collapsed": true
   },
   "outputs": [],
   "source": []
  },
  {
   "cell_type": "code",
   "execution_count": null,
   "metadata": {
    "collapsed": true
   },
   "outputs": [],
   "source": []
  },
  {
   "cell_type": "code",
   "execution_count": 20,
   "metadata": {
    "collapsed": false
   },
   "outputs": [
    {
     "data": {
      "text/plain": [
       "'some tabb call'"
      ]
     },
     "execution_count": 20,
     "metadata": {},
     "output_type": "execute_result"
    }
   ],
   "source": [
    "a='some tab call'\n",
    "a.replace('tab','tabb')"
   ]
  },
  {
   "cell_type": "code",
   "execution_count": 24,
   "metadata": {
    "collapsed": true
   },
   "outputs": [],
   "source": [
    "def gen_meta_popup():\n",
    "    popup_meta_html=\"\"\"\n",
    "    <HTML>\n",
    "    <HEAD>\n",
    "    <SCRIPT LANGUAGE=\"JavaScript\"><!--\n",
    "    function copyForm() {\n",
    "        opener.document.hiddenForm.metakey.value = document.popupForm.metakey.value;\n",
    "        opener.document.hiddenForm.metavalue.value = document.popupForm.metavalue.value;\n",
    "\n",
    "        opener.document.hiddenForm.submit();\n",
    "        window.close();\n",
    "        return false;\n",
    "    }\n",
    "    //--></SCRIPT>\n",
    "    </HEAD>\n",
    "    <BODY>\n",
    "    <FORM NAME=\"popupForm\" onSubmit=\"return copyForm()\">\n",
    "    meta key (e.g.,year):<br>\n",
    "    <input list=\"metakeys\" name=\"metakey\">\n",
    "    <datalist id=\"metakeys\">\n",
    "        ***options***\n",
    "    </datalist>\n",
    "    <br>\n",
    "    meta value(e.g.,200BC):<br>\n",
    "    <input type=\"text\" name='metavalue'><br>\n",
    "    <INPUT TYPE=\"BUTTON\" VALUE=\"Submit\" onClick=\"copyForm()\">\n",
    "    </FORM>\n",
    "    </BODY>\n",
    "    </HTML>\n",
    "\n",
    "\n",
    "    \"\"\"\n",
    "    options=make_options(file='metadata_fields.tab')\n",
    "    popup_meta_html=popup_meta_html.replace(\"***options***\",options)\n",
    "    f=open('popupPage.html','w')\n",
    "    f.write(popup_meta_html)\n",
    "\n"
   ]
  },
  {
   "cell_type": "code",
   "execution_count": null,
   "metadata": {
    "collapsed": true
   },
   "outputs": [],
   "source": []
  },
  {
   "cell_type": "code",
   "execution_count": 25,
   "metadata": {
    "collapsed": false
   },
   "outputs": [],
   "source": [
    "gen_meta_popup()"
   ]
  },
  {
   "cell_type": "code",
   "execution_count": 26,
   "metadata": {
    "collapsed": true
   },
   "outputs": [],
   "source": [
    "doc_name=\"shuo zhang\"\n",
    "edit_docname = \"\"\"<input type='text' name='edit_docname' value=%s> <input type='submit' value='change'>\"\"\" %doc_name"
   ]
  },
  {
   "cell_type": "code",
   "execution_count": 27,
   "metadata": {
    "collapsed": false
   },
   "outputs": [
    {
     "data": {
      "text/plain": [
       "\"<input type='text' name='edit_docname' value=shuo zhang> <input type='submit' value='change'>\""
      ]
     },
     "execution_count": 27,
     "metadata": {},
     "output_type": "execute_result"
    }
   ],
   "source": [
    "edit_docname"
   ]
  },
  {
   "cell_type": "code",
   "execution_count": 30,
   "metadata": {
    "collapsed": true
   },
   "outputs": [],
   "source": [
    "import sqlite3\n"
   ]
  },
  {
   "cell_type": "code",
   "execution_count": null,
   "metadata": {
    "collapsed": true
   },
   "outputs": [],
   "source": []
  },
  {
   "cell_type": "code",
   "execution_count": null,
   "metadata": {
    "collapsed": true
   },
   "outputs": [],
   "source": []
  },
  {
   "cell_type": "code",
   "execution_count": 5,
   "metadata": {
    "collapsed": true
   },
   "outputs": [],
   "source": [
    "sel"
   ]
  },
  {
   "cell_type": "code",
   "execution_count": 28,
   "metadata": {
    "collapsed": false
   },
   "outputs": [
    {
     "name": "stdout",
     "output_type": "stream",
     "text": [
      "/Applications/MAMP/htdocs/coptic-xml-tool\n"
     ]
    }
   ],
   "source": [
    "cd /Applications/MAMP/htdocs/coptic-xml-tool/"
   ]
  },
  {
   "cell_type": "code",
   "execution_count": 29,
   "metadata": {
    "collapsed": false
   },
   "outputs": [
    {
     "name": "stdout",
     "output_type": "stream",
     "text": [
      ".DS_Store            editor_codemir.html  popupPage.html\r\n",
      "\u001b[1m\u001b[34m.git\u001b[m\u001b[m/                hwak.txt             \u001b[1m\u001b[34mtemplates\u001b[m\u001b[m/\r\n",
      "README.md            \u001b[1m\u001b[34mimg\u001b[m\u001b[m/                 test-popup.py\r\n",
      "\u001b[1m\u001b[34mcodemirror-5.15.2\u001b[m\u001b[m/   \u001b[1m\u001b[32mlanding.py\u001b[m\u001b[m*          \u001b[1m\u001b[34musers\u001b[m\u001b[m/\r\n",
      "coptic.db            metadata_fields.tab\r\n",
      "\u001b[1m\u001b[32meditor.py\u001b[m\u001b[m*           \u001b[1m\u001b[34mmodules\u001b[m\u001b[m/\r\n"
     ]
    }
   ],
   "source": [
    "ls"
   ]
  },
  {
   "cell_type": "code",
   "execution_count": 35,
   "metadata": {
    "collapsed": false
   },
   "outputs": [],
   "source": [
    "\n",
    "dbpath = \"coptic.db\"\n",
    "conn = sqlite3.connect(dbpath)\n",
    "cur = conn.cursor()\n",
    "\n",
    "cur.execute('''CREATE TABLE IF NOT EXISTS metadata (docid INTEGER, metaid INTEGER, key text UNIQUE, value text, FOREIGN KEY (docid) REFERENCES users(id), UNIQUE (docid, metaid) ON CONFLICT REPLACE)''')\n",
    "\n",
    "\n",
    "conn.commit()\n",
    "conn.close()"
   ]
  },
  {
   "cell_type": "code",
   "execution_count": 2,
   "metadata": {
    "collapsed": false
   },
   "outputs": [
    {
     "name": "stdout",
     "output_type": "stream",
     "text": [
      "xrenner\n",
      "Library_PythonNew\n",
      "ANNIS\n",
      "Library_PythonNew\n",
      "ace\n",
      "ANNIS\n",
      "berkeley-entity\n",
      "classify-text\n",
      "CompMusic_PKO\n",
      "coptic-xml-tool\n",
      "coref\n",
      "deepLearningCode\n",
      "document_cluster\n",
      "DSAPI\n",
      "essentia\n",
      "gs-rest-service\n",
      "gum\n",
      "interview\n",
      "knitr\n",
      "knitr-examples\n",
      "Lake-time-series-analysis\n",
      "machine_learning_examples\n",
      "MCtone-learning\n",
      "melosynth\n",
      "Mining-the-Social-Web-2nd-Edition\n",
      "MyFlaskTutorial\n",
      "Native-to-Pinyin\n",
      "Praat-Scripts\n",
      "Probabilistic-Programming-and-Bayesian-Methods-for-Hackers\n",
      "problem-statement\n",
      "Prosodylab-Aligner\n",
      "pyfsa\n",
      "pymir\n",
      "Python-for-Algorithms--Data-Structures--and-Interviews\n",
      "Python-for-Signal-Processing\n",
      "python-script\n",
      "rstWeb\n",
      "saxpy\n",
      "signal_proc\n",
      "sms-tools\n",
      "SPM\n",
      "stanford-mir\n",
      "tensorflow\n",
      "time-series-classification-and-clustering\n",
      "Web_Scraping\n",
      "xrenner\n"
     ]
    }
   ],
   "source": [
    "from github import Github\n",
    "\n",
    "# First create a Github instance:\n",
    "g = Github(\"zangsir@gmail.com\", \"zs12084\")\n",
    "\n",
    "# Then play with your Github objects:\n",
    "for repo in g.get_user().get_repos():\n",
    "    print repo.name\n",
    "    #repo.edit(has_wiki=False)"
   ]
  },
  {
   "cell_type": "code",
   "execution_count": 3,
   "metadata": {
    "collapsed": false
   },
   "outputs": [
    {
     "data": {
      "text/plain": [
       "['CHECK_AFTER_INIT_FLAG',\n",
       " '_CompletableGithubObject__complete',\n",
       " '_CompletableGithubObject__completed',\n",
       " '_GithubObject__makeSimpleAttribute',\n",
       " '_GithubObject__makeSimpleListAttribute',\n",
       " '_GithubObject__makeTransformedAttribute',\n",
       " '_Repository__create_pull',\n",
       " '_Repository__create_pull_1',\n",
       " '_Repository__create_pull_2',\n",
       " '__class__',\n",
       " '__delattr__',\n",
       " '__dict__',\n",
       " '__doc__',\n",
       " '__eq__',\n",
       " '__format__',\n",
       " '__getattribute__',\n",
       " '__hash__',\n",
       " '__init__',\n",
       " '__module__',\n",
       " '__ne__',\n",
       " '__new__',\n",
       " '__reduce__',\n",
       " '__reduce_ex__',\n",
       " '__repr__',\n",
       " '__setattr__',\n",
       " '__sizeof__',\n",
       " '__str__',\n",
       " '__subclasshook__',\n",
       " '__weakref__',\n",
       " '_archive_url',\n",
       " '_assignees_url',\n",
       " '_blobs_url',\n",
       " '_branches_url',\n",
       " '_clone_url',\n",
       " '_collaborators_url',\n",
       " '_comments_url',\n",
       " '_commits_url',\n",
       " '_compare_url',\n",
       " '_completeIfNeeded',\n",
       " '_completeIfNotSet',\n",
       " '_contents_url',\n",
       " '_contributors_url',\n",
       " '_created_at',\n",
       " '_default_branch',\n",
       " '_description',\n",
       " '_downloads_url',\n",
       " '_events_url',\n",
       " '_fork',\n",
       " '_forks',\n",
       " '_forks_count',\n",
       " '_forks_url',\n",
       " '_full_name',\n",
       " '_git_commits_url',\n",
       " '_git_refs_url',\n",
       " '_git_tags_url',\n",
       " '_git_url',\n",
       " '_has_downloads',\n",
       " '_has_issues',\n",
       " '_has_wiki',\n",
       " '_headers',\n",
       " '_homepage',\n",
       " '_hooks_url',\n",
       " '_html_url',\n",
       " '_hub',\n",
       " '_id',\n",
       " '_identity',\n",
       " '_initAttributes',\n",
       " '_issue_comment_url',\n",
       " '_issue_events_url',\n",
       " '_issues_url',\n",
       " '_keys_url',\n",
       " '_labels_url',\n",
       " '_language',\n",
       " '_languages_url',\n",
       " '_makeBoolAttribute',\n",
       " '_makeClassAttribute',\n",
       " '_makeDatetimeAttribute',\n",
       " '_makeDictAttribute',\n",
       " '_makeDictOfStringsToClassesAttribute',\n",
       " '_makeIntAttribute',\n",
       " '_makeListOfClassesAttribute',\n",
       " '_makeListOfIntsAttribute',\n",
       " '_makeListOfListOfStringsAttribute',\n",
       " '_makeListOfStringsAttribute',\n",
       " '_makeStringAttribute',\n",
       " '_makeTimestampAttribute',\n",
       " '_master_branch',\n",
       " '_merges_url',\n",
       " '_milestones_url',\n",
       " '_mirror_url',\n",
       " '_name',\n",
       " '_network_count',\n",
       " '_notifications_url',\n",
       " '_open_issues',\n",
       " '_open_issues_count',\n",
       " '_organization',\n",
       " '_owner',\n",
       " '_parent',\n",
       " '_parentUrl',\n",
       " '_permissions',\n",
       " '_private',\n",
       " '_pulls_url',\n",
       " '_pushed_at',\n",
       " '_rawData',\n",
       " '_requester',\n",
       " '_size',\n",
       " '_source',\n",
       " '_ssh_url',\n",
       " '_stargazers_count',\n",
       " '_stargazers_url',\n",
       " '_statuses_url',\n",
       " '_storeAndUseAttributes',\n",
       " '_subscribers_url',\n",
       " '_subscription_url',\n",
       " '_svn_url',\n",
       " '_tags_url',\n",
       " '_teams_url',\n",
       " '_trees_url',\n",
       " '_updated_at',\n",
       " '_url',\n",
       " '_useAttributes',\n",
       " '_watchers',\n",
       " '_watchers_count',\n",
       " 'add_to_collaborators',\n",
       " 'archive_url',\n",
       " 'assignees_url',\n",
       " 'blobs_url',\n",
       " 'branches_url',\n",
       " 'clone_url',\n",
       " 'collaborators_url',\n",
       " 'comments_url',\n",
       " 'commits_url',\n",
       " 'compare',\n",
       " 'compare_url',\n",
       " 'contents_url',\n",
       " 'contributors_url',\n",
       " 'create_file',\n",
       " 'create_git_blob',\n",
       " 'create_git_commit',\n",
       " 'create_git_ref',\n",
       " 'create_git_release',\n",
       " 'create_git_tag',\n",
       " 'create_git_tag_and_release',\n",
       " 'create_git_tree',\n",
       " 'create_hook',\n",
       " 'create_issue',\n",
       " 'create_key',\n",
       " 'create_label',\n",
       " 'create_milestone',\n",
       " 'create_pull',\n",
       " 'created_at',\n",
       " 'default_branch',\n",
       " 'delete',\n",
       " 'delete_file',\n",
       " 'description',\n",
       " 'downloads_url',\n",
       " 'edit',\n",
       " 'etag',\n",
       " 'events_url',\n",
       " 'fork',\n",
       " 'forks',\n",
       " 'forks_count',\n",
       " 'forks_url',\n",
       " 'full_name',\n",
       " 'get__repr__',\n",
       " 'get_archive_link',\n",
       " 'get_assignees',\n",
       " 'get_branch',\n",
       " 'get_branches',\n",
       " 'get_collaborators',\n",
       " 'get_comment',\n",
       " 'get_comments',\n",
       " 'get_commit',\n",
       " 'get_commits',\n",
       " 'get_contents',\n",
       " 'get_contributors',\n",
       " 'get_dir_contents',\n",
       " 'get_download',\n",
       " 'get_downloads',\n",
       " 'get_events',\n",
       " 'get_file_contents',\n",
       " 'get_forks',\n",
       " 'get_git_blob',\n",
       " 'get_git_commit',\n",
       " 'get_git_ref',\n",
       " 'get_git_refs',\n",
       " 'get_git_tag',\n",
       " 'get_git_tree',\n",
       " 'get_hook',\n",
       " 'get_hooks',\n",
       " 'get_issue',\n",
       " 'get_issues',\n",
       " 'get_issues_comments',\n",
       " 'get_issues_event',\n",
       " 'get_issues_events',\n",
       " 'get_key',\n",
       " 'get_keys',\n",
       " 'get_label',\n",
       " 'get_labels',\n",
       " 'get_languages',\n",
       " 'get_milestone',\n",
       " 'get_milestones',\n",
       " 'get_network_events',\n",
       " 'get_protected_branch',\n",
       " 'get_pull',\n",
       " 'get_pulls',\n",
       " 'get_pulls_comments',\n",
       " 'get_pulls_review_comments',\n",
       " 'get_readme',\n",
       " 'get_release',\n",
       " 'get_releases',\n",
       " 'get_stargazers',\n",
       " 'get_stargazers_with_dates',\n",
       " 'get_stats_code_frequency',\n",
       " 'get_stats_commit_activity',\n",
       " 'get_stats_contributors',\n",
       " 'get_stats_participation',\n",
       " 'get_stats_punch_card',\n",
       " 'get_subscribers',\n",
       " 'get_tags',\n",
       " 'get_teams',\n",
       " 'get_watchers',\n",
       " 'git_commits_url',\n",
       " 'git_refs_url',\n",
       " 'git_tags_url',\n",
       " 'git_url',\n",
       " 'has_downloads',\n",
       " 'has_in_assignees',\n",
       " 'has_in_collaborators',\n",
       " 'has_issues',\n",
       " 'has_wiki',\n",
       " 'homepage',\n",
       " 'hooks_url',\n",
       " 'html_url',\n",
       " 'id',\n",
       " 'issue_comment_url',\n",
       " 'issue_events_url',\n",
       " 'issues_url',\n",
       " 'keys_url',\n",
       " 'labels_url',\n",
       " 'language',\n",
       " 'languages_url',\n",
       " 'last_modified',\n",
       " 'legacy_search_issues',\n",
       " 'master_branch',\n",
       " 'merge',\n",
       " 'merges_url',\n",
       " 'milestones_url',\n",
       " 'mirror_url',\n",
       " 'name',\n",
       " 'network_count',\n",
       " 'notifications_url',\n",
       " 'open_issues',\n",
       " 'open_issues_count',\n",
       " 'organization',\n",
       " 'owner',\n",
       " 'parent',\n",
       " 'permissions',\n",
       " 'private',\n",
       " 'protect_branch',\n",
       " 'pulls_url',\n",
       " 'pushed_at',\n",
       " 'raw_data',\n",
       " 'raw_headers',\n",
       " 'remove_from_collaborators',\n",
       " 'setCheckAfterInitFlag',\n",
       " 'size',\n",
       " 'source',\n",
       " 'ssh_url',\n",
       " 'stargazers_count',\n",
       " 'stargazers_url',\n",
       " 'statuses_url',\n",
       " 'subscribe_to_hub',\n",
       " 'subscribers_url',\n",
       " 'subscription_url',\n",
       " 'svn_url',\n",
       " 'tags_url',\n",
       " 'teams_url',\n",
       " 'trees_url',\n",
       " 'unsubscribe_from_hub',\n",
       " 'update',\n",
       " 'update_file',\n",
       " 'updated_at',\n",
       " 'url',\n",
       " 'watchers',\n",
       " 'watchers_count']"
      ]
     },
     "execution_count": 3,
     "metadata": {},
     "output_type": "execute_result"
    }
   ],
   "source": [
    "dir(repo)"
   ]
  },
  {
   "cell_type": "code",
   "execution_count": 4,
   "metadata": {
    "collapsed": false
   },
   "outputs": [
    {
     "ename": "ImportError",
     "evalue": "No module named PyGithub",
     "output_type": "error",
     "traceback": [
      "\u001b[0;31m---------------------------------------------------------------------------\u001b[0m",
      "\u001b[0;31mImportError\u001b[0m                               Traceback (most recent call last)",
      "\u001b[0;32m<ipython-input-4-3b26ef120f2f>\u001b[0m in \u001b[0;36m<module>\u001b[0;34m()\u001b[0m\n\u001b[0;32m----> 1\u001b[0;31m \u001b[0;32mimport\u001b[0m \u001b[0mPyGithub\u001b[0m\u001b[0;34m\u001b[0m\u001b[0m\n\u001b[0m",
      "\u001b[0;31mImportError\u001b[0m: No module named PyGithub"
     ]
    }
   ],
   "source": [
    "import PyGithub"
   ]
  },
  {
   "cell_type": "code",
   "execution_count": null,
   "metadata": {
    "collapsed": true
   },
   "outputs": [],
   "source": []
  },
  {
   "cell_type": "code",
   "execution_count": null,
   "metadata": {
    "collapsed": true
   },
   "outputs": [],
   "source": []
  },
  {
   "cell_type": "code",
   "execution_count": null,
   "metadata": {
    "collapsed": true
   },
   "outputs": [],
   "source": []
  },
  {
   "cell_type": "code",
   "execution_count": null,
   "metadata": {
    "collapsed": true
   },
   "outputs": [],
   "source": []
  },
  {
   "cell_type": "code",
   "execution_count": null,
   "metadata": {
    "collapsed": true
   },
   "outputs": [],
   "source": []
  },
  {
   "cell_type": "code",
   "execution_count": null,
   "metadata": {
    "collapsed": true
   },
   "outputs": [],
   "source": []
  },
  {
   "cell_type": "code",
   "execution_count": null,
   "metadata": {
    "collapsed": true
   },
   "outputs": [],
   "source": []
  },
  {
   "cell_type": "code",
   "execution_count": null,
   "metadata": {
    "collapsed": true
   },
   "outputs": [],
   "source": []
  },
  {
   "cell_type": "code",
   "execution_count": null,
   "metadata": {
    "collapsed": true
   },
   "outputs": [],
   "source": []
  },
  {
   "cell_type": "code",
   "execution_count": null,
   "metadata": {
    "collapsed": true
   },
   "outputs": [],
   "source": []
  },
  {
   "cell_type": "code",
   "execution_count": null,
   "metadata": {
    "collapsed": true
   },
   "outputs": [],
   "source": []
  },
  {
   "cell_type": "code",
   "execution_count": null,
   "metadata": {
    "collapsed": true
   },
   "outputs": [],
   "source": []
  },
  {
   "cell_type": "code",
   "execution_count": null,
   "metadata": {
    "collapsed": true
   },
   "outputs": [],
   "source": []
  },
  {
   "cell_type": "code",
   "execution_count": null,
   "metadata": {
    "collapsed": true
   },
   "outputs": [],
   "source": []
  }
 ],
 "metadata": {
  "kernelspec": {
   "display_name": "Python 2",
   "language": "python",
   "name": "python2"
  },
  "language_info": {
   "codemirror_mode": {
    "name": "ipython",
    "version": 2
   },
   "file_extension": ".py",
   "mimetype": "text/x-python",
   "name": "python",
   "nbconvert_exporter": "python",
   "pygments_lexer": "ipython2",
   "version": "2.7.12"
  }
 },
 "nbformat": 4,
 "nbformat_minor": 0
}
